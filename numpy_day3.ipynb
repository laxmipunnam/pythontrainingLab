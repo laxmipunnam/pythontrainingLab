{
  "nbformat": 4,
  "nbformat_minor": 0,
  "metadata": {
    "colab": {
      "name": "numpy_day3.ipynb",
      "provenance": [],
      "authorship_tag": "ABX9TyM9g0hm/bX7Nvaw1ip/B5AK",
      "include_colab_link": true
    },
    "kernelspec": {
      "name": "python3",
      "display_name": "Python 3"
    },
    "language_info": {
      "name": "python"
    }
  },
  "cells": [
    {
      "cell_type": "markdown",
      "metadata": {
        "id": "view-in-github",
        "colab_type": "text"
      },
      "source": [
        "<a href=\"https://colab.research.google.com/github/laxmipunnam/pythontrainingLab/blob/main/numpy_day3.ipynb\" target=\"_parent\"><img src=\"https://colab.research.google.com/assets/colab-badge.svg\" alt=\"Open In Colab\"/></a>"
      ]
    },
    {
      "cell_type": "code",
      "execution_count": 1,
      "metadata": {
        "id": "t5ZeZ1Dl9PeL"
      },
      "outputs": [],
      "source": [
        "#import numpy using import keyword\n",
        "import numpy\n"
      ]
    },
    {
      "cell_type": "code",
      "source": [
        "#create 1-d array using numpy\n",
        "arr=numpy.array([1,2,3,4,5,6])"
      ],
      "metadata": {
        "id": "zvim-R1i9WUY"
      },
      "execution_count": 2,
      "outputs": []
    },
    {
      "cell_type": "code",
      "source": [
        "print(type(arr))"
      ],
      "metadata": {
        "colab": {
          "base_uri": "https://localhost:8080/"
        },
        "id": "F_PAkuz3-L67",
        "outputId": "c2caf63e-a54e-4764-97d6-03db71b1b787"
      },
      "execution_count": 3,
      "outputs": [
        {
          "output_type": "stream",
          "name": "stdout",
          "text": [
            "<class 'numpy.ndarray'>\n"
          ]
        }
      ]
    },
    {
      "cell_type": "code",
      "source": [
        "#check the version\n",
        "print(numpy.__version__)"
      ],
      "metadata": {
        "colab": {
          "base_uri": "https://localhost:8080/"
        },
        "id": "9OCXK7-8-QLi",
        "outputId": "66ea4007-c858-4d62-e448-6c6e649942cc"
      },
      "execution_count": 4,
      "outputs": [
        {
          "output_type": "stream",
          "name": "stdout",
          "text": [
            "1.21.6\n"
          ]
        }
      ]
    },
    {
      "cell_type": "code",
      "source": [
        "#can we create array using tuple\n",
        "import numpy as np\n",
        "arr=np.array((1,2,3,4,5))\n",
        "print(arr)\n",
        "\n",
        "#create 2-d array using 2 list\n",
        "arr1=np.array([[1,2,3],[4,5,6]])\n",
        "print(\"2-d array\",arr1)"
      ],
      "metadata": {
        "colab": {
          "base_uri": "https://localhost:8080/"
        },
        "id": "VtRwNVoe-Xv0",
        "outputId": "d2fe7b12-e9b6-4797-92ac-1d87fd81691e"
      },
      "execution_count": 9,
      "outputs": [
        {
          "output_type": "stream",
          "name": "stdout",
          "text": [
            "[1 2 3 4 5]\n",
            "2-d array [[1 2 3]\n",
            " [4 5 6]]\n"
          ]
        }
      ]
    },
    {
      "cell_type": "code",
      "source": [
        "#create 3-d array\n",
        "\n",
        "arr3=np.array([[[1,2,3],[4,5,6]],[[7,8,9],[4,5,6]]])\n",
        "print(arr3)"
      ],
      "metadata": {
        "colab": {
          "base_uri": "https://localhost:8080/"
        },
        "id": "Sr0h30aH_SGS",
        "outputId": "3a54487f-641e-48c4-cc6a-a3e2d875d388"
      },
      "execution_count": 10,
      "outputs": [
        {
          "output_type": "stream",
          "name": "stdout",
          "text": [
            "[[[1 2 3]\n",
            "  [4 5 6]]\n",
            "\n",
            " [[7 8 9]\n",
            "  [4 5 6]]]\n"
          ]
        }
      ]
    },
    {
      "cell_type": "code",
      "source": [
        "#check dimension of array\n",
        "\n",
        "print(\"dim of arr\",arr.ndim)\n",
        "print(\"dim of arr1\",arr1.ndim)\n",
        "print(\"dim of arr3\",arr3.ndim)\n"
      ],
      "metadata": {
        "colab": {
          "base_uri": "https://localhost:8080/"
        },
        "id": "iYFDvkGo_zTe",
        "outputId": "274468ed-18ba-46de-f6b8-e01e8bdb8d41"
      },
      "execution_count": 12,
      "outputs": [
        {
          "output_type": "stream",
          "name": "stdout",
          "text": [
            "dim of arr 1\n",
            "dim of arr1 2\n",
            "dim of arr3 3\n"
          ]
        }
      ]
    },
    {
      "cell_type": "code",
      "source": [
        "#indexing in array\n",
        "print(arr[3])\n",
        "#find index in 1-d array and 2-d array\n",
        "print(arr[4])\n",
        "print(arr1[1][0])\n",
        "#slicing in 1-d and 2-d array\n",
        "print(arr[1:3])\n",
        "print(arr1[0:1])\n",
        "print(arr1[1,1])"
      ],
      "metadata": {
        "colab": {
          "base_uri": "https://localhost:8080/"
        },
        "id": "9pUF3m3UCyFv",
        "outputId": "2a23823c-0149-479a-e956-df7b1e89fa5b"
      },
      "execution_count": 25,
      "outputs": [
        {
          "output_type": "stream",
          "name": "stdout",
          "text": [
            "4\n",
            "5\n",
            "4\n",
            "[2 3]\n",
            "[[1 2 3]]\n",
            "5\n"
          ]
        }
      ]
    },
    {
      "cell_type": "code",
      "source": [
        "print(arr3)"
      ],
      "metadata": {
        "colab": {
          "base_uri": "https://localhost:8080/"
        },
        "id": "UYyAMPd2FVF7",
        "outputId": "91b20cbb-b7cd-441f-9aa9-4c54cb5369de"
      },
      "execution_count": 87,
      "outputs": [
        {
          "output_type": "stream",
          "name": "stdout",
          "text": [
            "[[[1 2 3]\n",
            "  [4 5 6]]\n",
            "\n",
            " [[7 8 9]\n",
            "  [4 5 6]]]\n"
          ]
        }
      ]
    },
    {
      "cell_type": "code",
      "source": [
        "print(arr3[1,1,2])"
      ],
      "metadata": {
        "colab": {
          "base_uri": "https://localhost:8080/"
        },
        "id": "6k_f20omFYgK",
        "outputId": "171cefa6-8def-4384-8e13-54d00bfddec7"
      },
      "execution_count": 35,
      "outputs": [
        {
          "output_type": "stream",
          "name": "stdout",
          "text": [
            "6\n"
          ]
        }
      ]
    },
    {
      "cell_type": "code",
      "source": [
        "print(arr3[3,1,2])"
      ],
      "metadata": {
        "colab": {
          "base_uri": "https://localhost:8080/",
          "height": 165
        },
        "id": "CMHyI6lSGPI_",
        "outputId": "79d13202-b30e-439a-d1b2-ee74efc787c8"
      },
      "execution_count": 36,
      "outputs": [
        {
          "output_type": "error",
          "ename": "IndexError",
          "evalue": "ignored",
          "traceback": [
            "\u001b[0;31m---------------------------------------------------------------------------\u001b[0m",
            "\u001b[0;31mIndexError\u001b[0m                                Traceback (most recent call last)",
            "\u001b[0;32m<ipython-input-36-91e6d8310f45>\u001b[0m in \u001b[0;36m<module>\u001b[0;34m()\u001b[0m\n\u001b[0;32m----> 1\u001b[0;31m \u001b[0mprint\u001b[0m\u001b[0;34m(\u001b[0m\u001b[0marr3\u001b[0m\u001b[0;34m[\u001b[0m\u001b[0;36m3\u001b[0m\u001b[0;34m,\u001b[0m\u001b[0;36m1\u001b[0m\u001b[0;34m,\u001b[0m\u001b[0;36m2\u001b[0m\u001b[0;34m]\u001b[0m\u001b[0;34m)\u001b[0m\u001b[0;34m\u001b[0m\u001b[0;34m\u001b[0m\u001b[0m\n\u001b[0m",
            "\u001b[0;31mIndexError\u001b[0m: index 3 is out of bounds for axis 0 with size 2"
          ]
        }
      ]
    },
    {
      "cell_type": "code",
      "source": [
        "#negative indexing\n",
        "print(arr1)\n"
      ],
      "metadata": {
        "colab": {
          "base_uri": "https://localhost:8080/"
        },
        "id": "MiU0kQNxGR4X",
        "outputId": "11dd1c4a-1bc5-45e0-91a2-de6028a1fd27"
      },
      "execution_count": 39,
      "outputs": [
        {
          "output_type": "stream",
          "name": "stdout",
          "text": [
            "[[1 2 3]\n",
            " [4 5 6]]\n"
          ]
        }
      ]
    },
    {
      "cell_type": "code",
      "source": [
        "print(arr1[1,-1])"
      ],
      "metadata": {
        "colab": {
          "base_uri": "https://localhost:8080/"
        },
        "id": "EXMitLjtGjGZ",
        "outputId": "425540e1-4d9d-4530-840e-95588e4e73a0"
      },
      "execution_count": 41,
      "outputs": [
        {
          "output_type": "stream",
          "name": "stdout",
          "text": [
            "6\n"
          ]
        }
      ]
    },
    {
      "cell_type": "code",
      "source": [
        "#slicing\n",
        "a=np.array([1,2,3,4,5,6,7])\n",
        "print(arr[1:4])\n",
        "print(arr[:4])\n",
        "print(a[4:])\n",
        "print(a[-3:-1])"
      ],
      "metadata": {
        "colab": {
          "base_uri": "https://localhost:8080/"
        },
        "id": "GGhV4PSjGrOZ",
        "outputId": "b4b46ec2-305d-488c-cbe4-f19e44e3d5f3"
      },
      "execution_count": 42,
      "outputs": [
        {
          "output_type": "stream",
          "name": "stdout",
          "text": [
            "[2 3 4]\n",
            "[1 2 3 4]\n",
            "[5 6 7]\n",
            "[5 6]\n"
          ]
        }
      ]
    },
    {
      "cell_type": "code",
      "source": [
        "#slicing in 2-d\n",
        "b=np.array([[1,2,3,4,5],[6,7,8,9,10]])\n",
        "print(b.ndim)"
      ],
      "metadata": {
        "colab": {
          "base_uri": "https://localhost:8080/"
        },
        "id": "Tt4J8crFH_Vs",
        "outputId": "5e40d171-be22-43de-a953-6aa4f036eab7"
      },
      "execution_count": 43,
      "outputs": [
        {
          "output_type": "stream",
          "name": "stdout",
          "text": [
            "2\n"
          ]
        }
      ]
    },
    {
      "cell_type": "code",
      "source": [
        "b[1,1:4]"
      ],
      "metadata": {
        "colab": {
          "base_uri": "https://localhost:8080/"
        },
        "id": "K3N55RYxIX7V",
        "outputId": "bc687738-2ce0-461d-c5ad-97a191943eb1"
      },
      "execution_count": 44,
      "outputs": [
        {
          "output_type": "execute_result",
          "data": {
            "text/plain": [
              "array([7, 8, 9])"
            ]
          },
          "metadata": {},
          "execution_count": 44
        }
      ]
    },
    {
      "cell_type": "code",
      "source": [
        "#how to acess 8,9\n",
        "b[1,2:4]"
      ],
      "metadata": {
        "colab": {
          "base_uri": "https://localhost:8080/"
        },
        "id": "HcIF3D1-IY0W",
        "outputId": "c5721942-b116-4ae6-e99a-017ca874f43c"
      },
      "execution_count": 45,
      "outputs": [
        {
          "output_type": "execute_result",
          "data": {
            "text/plain": [
              "array([8, 9])"
            ]
          },
          "metadata": {},
          "execution_count": 45
        }
      ]
    },
    {
      "cell_type": "code",
      "source": [
        "#access the index 1 to index 3 from both array\n",
        "b[0:2,1:4]"
      ],
      "metadata": {
        "colab": {
          "base_uri": "https://localhost:8080/"
        },
        "id": "h_JRHgoQIYjU",
        "outputId": "a14692e7-c600-41f6-c262-ecac54f6fdc8"
      },
      "execution_count": 48,
      "outputs": [
        {
          "output_type": "execute_result",
          "data": {
            "text/plain": [
              "array([[2, 3, 4],\n",
              "       [7, 8, 9]])"
            ]
          },
          "metadata": {},
          "execution_count": 48
        }
      ]
    },
    {
      "cell_type": "code",
      "source": [
        "#shape of array\n",
        "print(\"shape of array a:\",a.shape)\n",
        "print(\"shape of array b:\",b.shape)"
      ],
      "metadata": {
        "colab": {
          "base_uri": "https://localhost:8080/"
        },
        "id": "NaKEiLTUI9N9",
        "outputId": "317309d6-87e6-4fc5-a002-0f4da307d484"
      },
      "execution_count": 49,
      "outputs": [
        {
          "output_type": "stream",
          "name": "stdout",
          "text": [
            "shape of array a: (7,)\n",
            "shape of array b: (2, 5)\n"
          ]
        }
      ]
    },
    {
      "cell_type": "code",
      "source": [
        "#iterate over array using loop\n",
        "for x in b:\n",
        "  print(x)"
      ],
      "metadata": {
        "colab": {
          "base_uri": "https://localhost:8080/"
        },
        "id": "gw5DidXiJd9h",
        "outputId": "e5acbfab-9dad-4007-fcd1-cc5aaa9b5d60"
      },
      "execution_count": 86,
      "outputs": [
        {
          "output_type": "stream",
          "name": "stdout",
          "text": [
            "[1 2 3 4 5]\n",
            "[ 6  7  8  9 10]\n"
          ]
        }
      ]
    },
    {
      "cell_type": "code",
      "source": [
        "#scaler elements from 2-d array using nested loop\n",
        "for x in b:\n",
        "  for y in x:\n",
        "    print(y)"
      ],
      "metadata": {
        "colab": {
          "base_uri": "https://localhost:8080/"
        },
        "id": "6EhqQtTcJpVh",
        "outputId": "e47c4098-964d-416c-eaff-806f0ca5eb18"
      },
      "execution_count": 51,
      "outputs": [
        {
          "output_type": "stream",
          "name": "stdout",
          "text": [
            "1\n",
            "2\n",
            "3\n",
            "4\n",
            "5\n",
            "6\n",
            "7\n",
            "8\n",
            "9\n",
            "10\n"
          ]
        }
      ]
    },
    {
      "cell_type": "code",
      "source": [
        "for x in arr3:\n",
        "  for y in x:\n",
        "    for z in y:\n",
        "      print(z)"
      ],
      "metadata": {
        "colab": {
          "base_uri": "https://localhost:8080/"
        },
        "id": "pCu8YGswJ-qT",
        "outputId": "0dfc285d-d62b-44c0-a105-90ab4f5ca7e4"
      },
      "execution_count": 53,
      "outputs": [
        {
          "output_type": "stream",
          "name": "stdout",
          "text": [
            "1\n",
            "2\n",
            "3\n",
            "4\n",
            "5\n",
            "6\n",
            "7\n",
            "8\n",
            "9\n",
            "4\n",
            "5\n",
            "6\n"
          ]
        }
      ]
    },
    {
      "cell_type": "code",
      "source": [
        "#nditer\n",
        "for x in np.nditer(arr3):\n",
        "  print(x)\n",
        "for r in np.nditer(b):\n",
        "  print(r)\n"
      ],
      "metadata": {
        "colab": {
          "base_uri": "https://localhost:8080/"
        },
        "id": "QjN0-D1OKABh",
        "outputId": "4ff86f4d-b720-4e02-957b-c72c11a95ee8"
      },
      "execution_count": 88,
      "outputs": [
        {
          "output_type": "stream",
          "name": "stdout",
          "text": [
            "1\n",
            "2\n",
            "3\n",
            "4\n",
            "5\n",
            "6\n",
            "7\n",
            "8\n",
            "9\n",
            "4\n",
            "5\n",
            "6\n",
            "1\n",
            "2\n",
            "3\n",
            "4\n",
            "5\n",
            "6\n",
            "7\n",
            "8\n",
            "9\n",
            "10\n"
          ]
        }
      ]
    },
    {
      "cell_type": "code",
      "source": [
        "#some trignometric function\n",
        "x=np.sin(np.pi/2)\n",
        "print(x)\n"
      ],
      "metadata": {
        "colab": {
          "base_uri": "https://localhost:8080/"
        },
        "id": "F5AB5SvvJ_22",
        "outputId": "091299ed-b138-4231-968f-68d27a3bd02a"
      },
      "execution_count": 54,
      "outputs": [
        {
          "output_type": "stream",
          "name": "stdout",
          "text": [
            "1.0\n"
          ]
        }
      ]
    },
    {
      "cell_type": "code",
      "source": [
        "arr=np.array([np.pi/2,np.pi/3,np.pi/4,np.pi/5])\n",
        "z=np.sin(arr)\n",
        "y=np.cos(arr)\n",
        "print(z)\n",
        "print(y)"
      ],
      "metadata": {
        "colab": {
          "base_uri": "https://localhost:8080/"
        },
        "id": "XV7yoQzYJ_qD",
        "outputId": "881d76e2-5731-4c62-bdfc-b2e541d5b4e2"
      },
      "execution_count": 55,
      "outputs": [
        {
          "output_type": "stream",
          "name": "stdout",
          "text": [
            "[1.         0.8660254  0.70710678 0.58778525]\n",
            "[6.12323400e-17 5.00000000e-01 7.07106781e-01 8.09016994e-01]\n"
          ]
        }
      ]
    },
    {
      "cell_type": "code",
      "source": [
        "#radian=pi/180*degree\n",
        "arr=np.array([90,180,270,360])\n",
        "x1=np.deg2rad(arr)\n",
        "print(x1)"
      ],
      "metadata": {
        "colab": {
          "base_uri": "https://localhost:8080/"
        },
        "id": "IV9-LWZzLXW6",
        "outputId": "63e75a3f-1161-4099-ccc2-0a10c597a710"
      },
      "execution_count": 56,
      "outputs": [
        {
          "output_type": "stream",
          "name": "stdout",
          "text": [
            "[1.57079633 3.14159265 4.71238898 6.28318531]\n"
          ]
        }
      ]
    },
    {
      "cell_type": "code",
      "source": [
        "arr1=np.array([np.pi/2,np.pi,1.5*np.pi,2*np.pi])\n",
        "x=np.rad2deg(arr1)\n",
        "print(x)"
      ],
      "metadata": {
        "colab": {
          "base_uri": "https://localhost:8080/"
        },
        "id": "ChoulA38LXTn",
        "outputId": "364c707d-851b-44c3-b915-ce076c943783"
      },
      "execution_count": 57,
      "outputs": [
        {
          "output_type": "stream",
          "name": "stdout",
          "text": [
            "[ 90. 180. 270. 360.]\n"
          ]
        }
      ]
    },
    {
      "cell_type": "code",
      "source": [
        "arr=np.around(3.145,2)\n",
        "print(arr)"
      ],
      "metadata": {
        "colab": {
          "base_uri": "https://localhost:8080/"
        },
        "id": "w2ZHV42LLXQw",
        "outputId": "935518b1-a72f-4c31-a780-028be3afe13c"
      },
      "execution_count": 59,
      "outputs": [
        {
          "output_type": "stream",
          "name": "stdout",
          "text": [
            "3.14\n"
          ]
        }
      ]
    },
    {
      "cell_type": "code",
      "source": [
        "arr=np.ceil([-3.166,3.667])\n",
        "print(arr)"
      ],
      "metadata": {
        "colab": {
          "base_uri": "https://localhost:8080/"
        },
        "id": "OFu46zrwMfGW",
        "outputId": "10041fcf-96b3-4408-ff42-bf1b03c4420f"
      },
      "execution_count": 62,
      "outputs": [
        {
          "output_type": "stream",
          "name": "stdout",
          "text": [
            "[-3.  4.]\n"
          ]
        }
      ]
    },
    {
      "cell_type": "code",
      "source": [
        "arr=np.floor([-3.166,3.667])\n",
        "print(arr)"
      ],
      "metadata": {
        "colab": {
          "base_uri": "https://localhost:8080/"
        },
        "id": "kXjSgAsyMyvd",
        "outputId": "d95615e0-efbb-4aae-f0a7-0a61ccaf53ce"
      },
      "execution_count": 63,
      "outputs": [
        {
          "output_type": "stream",
          "name": "stdout",
          "text": [
            "[-4.  3.]\n"
          ]
        }
      ]
    },
    {
      "cell_type": "code",
      "source": [
        "arr=np.trunc([-3.166,3.667])\n",
        "print(arr)"
      ],
      "metadata": {
        "colab": {
          "base_uri": "https://localhost:8080/"
        },
        "id": "Mq6J1M8uM5vP",
        "outputId": "38fd1980-5a5e-483c-d31b-ab4ca4abc92d"
      },
      "execution_count": 64,
      "outputs": [
        {
          "output_type": "stream",
          "name": "stdout",
          "text": [
            "[-3.  3.]\n"
          ]
        }
      ]
    },
    {
      "cell_type": "code",
      "source": [
        "arr=np.fix([-3.166,3.667])\n",
        "print(arr)"
      ],
      "metadata": {
        "colab": {
          "base_uri": "https://localhost:8080/"
        },
        "id": "5kz2GYImM97o",
        "outputId": "a3c8d853-d956-4421-e551-95dcf06ae923"
      },
      "execution_count": 65,
      "outputs": [
        {
          "output_type": "stream",
          "name": "stdout",
          "text": [
            "[-3.  3.]\n"
          ]
        }
      ]
    },
    {
      "cell_type": "markdown",
      "source": [
        "mathematical function"
      ],
      "metadata": {
        "id": "JFmpFIyQNCZI"
      }
    },
    {
      "cell_type": "code",
      "source": [
        "arr1=np.array([1,2,3])\n",
        "arr2=np.array([4,5,6])\n",
        "addarray=np.add(arr1,arr2)\n",
        "print(addarray)"
      ],
      "metadata": {
        "colab": {
          "base_uri": "https://localhost:8080/"
        },
        "id": "R1HK5M9DM95a",
        "outputId": "a1f1a0b8-7c97-42cc-ec0f-f09570a2ca4c"
      },
      "execution_count": 66,
      "outputs": [
        {
          "output_type": "stream",
          "name": "stdout",
          "text": [
            "[5 7 9]\n"
          ]
        }
      ]
    },
    {
      "cell_type": "code",
      "source": [
        "#it sum the values of both arr1 and arr2\n",
        "addarray=np.sum([arr1,arr2])\n",
        "print(addarray)"
      ],
      "metadata": {
        "colab": {
          "base_uri": "https://localhost:8080/"
        },
        "id": "HupDJNH2M91A",
        "outputId": "34f5baec-15c7-42a3-dfdd-607cfb9b978c"
      },
      "execution_count": 67,
      "outputs": [
        {
          "output_type": "stream",
          "name": "stdout",
          "text": [
            "21\n"
          ]
        }
      ]
    },
    {
      "cell_type": "code",
      "source": [
        "#you can sum along with axis\n",
        "addarray=np.sum([arr1,arr2],axis=1)\n",
        "print(addarray)"
      ],
      "metadata": {
        "colab": {
          "base_uri": "https://localhost:8080/"
        },
        "id": "mSQ0fQA3NqeY",
        "outputId": "3b248985-4e4e-4c96-d0f0-51f80be88b96"
      },
      "execution_count": 68,
      "outputs": [
        {
          "output_type": "stream",
          "name": "stdout",
          "text": [
            "[ 6 15]\n"
          ]
        }
      ]
    },
    {
      "cell_type": "code",
      "source": [
        "#you can sum along with axis\n",
        "addarray=np.sum([arr1,arr2],axis=0)\n",
        "print(addarray)"
      ],
      "metadata": {
        "colab": {
          "base_uri": "https://localhost:8080/"
        },
        "id": "M0CAhJn7Nqa_",
        "outputId": "9d209ce4-c049-4b6a-cc1d-687558d786a6"
      },
      "execution_count": 69,
      "outputs": [
        {
          "output_type": "stream",
          "name": "stdout",
          "text": [
            "[5 7 9]\n"
          ]
        }
      ]
    },
    {
      "cell_type": "code",
      "source": [
        "a=np.array([1,2,3,4,5,6,7])\n",
        "cumsumArray=np.cumsum(a)\n",
        "print(cumsumArray)"
      ],
      "metadata": {
        "colab": {
          "base_uri": "https://localhost:8080/"
        },
        "id": "uEKrzycRNqYQ",
        "outputId": "c40be129-1ac8-472c-a843-8c6801f3949a"
      },
      "execution_count": 71,
      "outputs": [
        {
          "output_type": "stream",
          "name": "stdout",
          "text": [
            "[ 1  3  6 10 15 21 28]\n"
          ]
        }
      ]
    },
    {
      "cell_type": "code",
      "source": [
        "a=np.array([1,2,3,4,5,6,7])\n",
        "cumprodArray=np.cumprod(a)\n",
        "print(cumprodArray)"
      ],
      "metadata": {
        "colab": {
          "base_uri": "https://localhost:8080/"
        },
        "id": "WgiPdTn8N-M3",
        "outputId": "372d4c63-7338-4c6a-d1bf-dc99c64a7f9b"
      },
      "execution_count": 72,
      "outputs": [
        {
          "output_type": "stream",
          "name": "stdout",
          "text": [
            "[   1    2    6   24  120  720 5040]\n"
          ]
        }
      ]
    },
    {
      "cell_type": "code",
      "source": [
        "a=np.array([1,2,3,4,5,6,7])\n",
        "prodArray=np.prod(a)\n",
        "print(prodArray)"
      ],
      "metadata": {
        "colab": {
          "base_uri": "https://localhost:8080/"
        },
        "id": "CI7QtFRyN-Jg",
        "outputId": "72368b76-787c-4576-f326-a3f9fb60b2b2"
      },
      "execution_count": 73,
      "outputs": [
        {
          "output_type": "stream",
          "name": "stdout",
          "text": [
            "5040\n"
          ]
        }
      ]
    },
    {
      "cell_type": "code",
      "source": [
        "#create the prod over axis=0\n",
        "a=np.array([1,2,3,4,5,6,7])\n",
        "prodArray=np.prod([a],axis=0)\n",
        "print(prodArray)"
      ],
      "metadata": {
        "colab": {
          "base_uri": "https://localhost:8080/"
        },
        "id": "fe-FchstN-G9",
        "outputId": "54ddf255-d1ad-413f-b711-48d387a2f5ac"
      },
      "execution_count": 77,
      "outputs": [
        {
          "output_type": "stream",
          "name": "stdout",
          "text": [
            "[1 2 3 4 5 6 7]\n"
          ]
        }
      ]
    },
    {
      "cell_type": "code",
      "source": [
        "#create the prod over axis=1\n",
        "a=np.array([1,2,3,4,5,6,7])\n",
        "prodArray=np.prod([a],axis=1)\n",
        "print(prodArray)"
      ],
      "metadata": {
        "colab": {
          "base_uri": "https://localhost:8080/"
        },
        "id": "98JCR6Q0PZjT",
        "outputId": "10961d37-5413-42e5-d061-54221d7a07a1"
      },
      "execution_count": 76,
      "outputs": [
        {
          "output_type": "stream",
          "name": "stdout",
          "text": [
            "[5040]\n"
          ]
        }
      ]
    },
    {
      "cell_type": "code",
      "source": [
        "#arithmetic operation \n",
        "r1=np.array([10,11,12,13,14,15])\n",
        "r2=np.array([20,21,22,23,24,25])\n",
        "addA=np.add(r1,r2)\n",
        "print(\"addition:\",addA)\n",
        "\n",
        "subA=np.subtract(r2,r1)\n",
        "print(\"subtraction:\",subA)\n",
        "\n",
        "mulA=np.multiply(r1,r2)\n",
        "print(\"multiply:\",mulA)\n",
        "\n",
        "divA=np.divide(r2,r1)\n",
        "print(\"division:\",divA)"
      ],
      "metadata": {
        "colab": {
          "base_uri": "https://localhost:8080/"
        },
        "id": "fop5Q8iWQdor",
        "outputId": "e125c85a-f462-4b08-afdf-4f09ca56bea3"
      },
      "execution_count": 80,
      "outputs": [
        {
          "output_type": "stream",
          "name": "stdout",
          "text": [
            "addition: [30 32 34 36 38 40]\n",
            "subtraction: [10 10 10 10 10 10]\n",
            "multiply: [200 231 264 299 336 375]\n",
            "division: [2.         1.90909091 1.83333333 1.76923077 1.71428571 1.66666667]\n"
          ]
        }
      ]
    },
    {
      "cell_type": "code",
      "source": [
        "r1=np.array([1,2,3,4,5,6])\n",
        "r2=np.array([0,1,2,3,4,5])\n",
        "powA=np.power(r1,r2)\n",
        "print(\"power:\",powA)"
      ],
      "metadata": {
        "colab": {
          "base_uri": "https://localhost:8080/"
        },
        "id": "_qs_mH0UQdlg",
        "outputId": "01151b1b-4b02-4bb5-9391-6cdb96af54a6"
      },
      "execution_count": 81,
      "outputs": [
        {
          "output_type": "stream",
          "name": "stdout",
          "text": [
            "power: [   1    2    9   64  625 7776]\n"
          ]
        }
      ]
    },
    {
      "cell_type": "code",
      "source": [
        "r1=np.array([1,2,3,4,5,6])\n",
        "r2=np.array([2,1,2,3,4,5])\n",
        "remA=np.remainder(r1,r2)\n",
        "print(\"remainder:\",remA)"
      ],
      "metadata": {
        "colab": {
          "base_uri": "https://localhost:8080/"
        },
        "id": "aH1k17xYSINO",
        "outputId": "786e0553-ec31-405e-bd54-af93af6ec179"
      },
      "execution_count": 82,
      "outputs": [
        {
          "output_type": "stream",
          "name": "stdout",
          "text": [
            "remainder: [1 0 1 1 1 1]\n"
          ]
        }
      ]
    },
    {
      "cell_type": "code",
      "source": [
        "r1=np.array([1,2,3,4,5,6])\n",
        "r2=np.array([2,1,2,3,4,5])\n",
        "divmodA=np.divmod(r1,r2)\n",
        "print(\"remainder:\",divmodA)"
      ],
      "metadata": {
        "colab": {
          "base_uri": "https://localhost:8080/"
        },
        "id": "75yFp8onSZPb",
        "outputId": "104ff949-58bc-44ab-811d-56b84de99f54"
      },
      "execution_count": 83,
      "outputs": [
        {
          "output_type": "stream",
          "name": "stdout",
          "text": [
            "remainder: (array([0, 2, 1, 1, 1, 1]), array([1, 0, 1, 1, 1, 1]))\n"
          ]
        }
      ]
    },
    {
      "cell_type": "code",
      "source": [
        "r1=np.array([1,-2,3,-4,5,6])\n",
        "absA=np.absolute(r1)\n",
        "print(absA)"
      ],
      "metadata": {
        "colab": {
          "base_uri": "https://localhost:8080/"
        },
        "id": "mrwAbCdCSvFb",
        "outputId": "e3c9bb00-c2dd-4c90-d44f-c1b660b6f6c3"
      },
      "execution_count": 84,
      "outputs": [
        {
          "output_type": "stream",
          "name": "stdout",
          "text": [
            "[1 2 3 4 5 6]\n"
          ]
        }
      ]
    },
    {
      "cell_type": "code",
      "source": [
        "#statiscal function\n",
        "# mean\n",
        "import statistics\n",
        "\n",
        "n= [8,5,10,12,16,13,15,19,20]\n",
        "mean = statistics.mean(n)\n",
        "print(mean)\n",
        "# median\n",
        "n= [8,5,10,12,16,13,15,19,20]\n",
        "median = statistics.median(n)\n",
        "print(median)\n",
        "# mod\n",
        "n= [9, 4, 6, 4, 5, 2, 10, 12, 1, 4, 4, 7]\n",
        "mode = statistics.mode(n)\n",
        "print(mode)\n",
        "# stddev\n",
        "stddev=statistics.stdev(n)\n",
        "print(stddev)\n",
        "# variance\n",
        "variance=statistics.variance(n)\n",
        "print(variance)\n"
      ],
      "metadata": {
        "colab": {
          "base_uri": "https://localhost:8080/"
        },
        "id": "I-CQze8BTC57",
        "outputId": "fe4fe6c6-51f1-4b33-c8ad-0a789b6046af"
      },
      "execution_count": 104,
      "outputs": [
        {
          "output_type": "stream",
          "name": "stdout",
          "text": [
            "13.11111111111111\n",
            "13\n",
            "4\n",
            "3.2844906435973886\n",
            "10.787878787878787\n"
          ]
        }
      ]
    },
    {
      "cell_type": "code",
      "source": [
        ""
      ],
      "metadata": {
        "id": "2ZEN7rh_m-Hw"
      },
      "execution_count": null,
      "outputs": []
    }
  ]
}