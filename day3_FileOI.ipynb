{
  "nbformat": 4,
  "nbformat_minor": 0,
  "metadata": {
    "colab": {
      "name": "day3_FileOI.ipynb",
      "provenance": [],
      "authorship_tag": "ABX9TyOOJqbaEGgEzgig0GPwTq+k",
      "include_colab_link": true
    },
    "kernelspec": {
      "name": "python3",
      "display_name": "Python 3"
    },
    "language_info": {
      "name": "python"
    }
  },
  "cells": [
    {
      "cell_type": "markdown",
      "metadata": {
        "id": "view-in-github",
        "colab_type": "text"
      },
      "source": [
        "<a href=\"https://colab.research.google.com/github/laxmipunnam/pythontrainingLab/blob/main/day3_FileOI.ipynb\" target=\"_parent\"><img src=\"https://colab.research.google.com/assets/colab-badge.svg\" alt=\"Open In Colab\"/></a>"
      ]
    },
    {
      "cell_type": "code",
      "execution_count": null,
      "metadata": {
        "colab": {
          "base_uri": "https://localhost:8080/"
        },
        "id": "Fp5UCUk0us0S",
        "outputId": "fad3ad4f-57ab-4d9f-e1c9-138df57f60f1"
      },
      "outputs": [
        {
          "output_type": "stream",
          "name": "stdout",
          "text": [
            "enter your nameLaxmi\n",
            "welcome Laxmi to python training\n"
          ]
        }
      ],
      "source": [
        "str=input(\"enter your name\")\n",
        "print(\"welcome \"+str+\" to python training\")"
      ]
    },
    {
      "cell_type": "code",
      "source": [
        "x,y=input(\"enter two values:\").split()\n",
        "print(\"value of x:\",x)\n",
        "print(\"value of y:\",y)"
      ],
      "metadata": {
        "colab": {
          "base_uri": "https://localhost:8080/"
        },
        "id": "rfBBDbvju8aF",
        "outputId": "a289ad13-9d08-4bf2-bdae-3d46a2e7cba4"
      },
      "execution_count": null,
      "outputs": [
        {
          "output_type": "stream",
          "name": "stdout",
          "text": [
            "enter two values:4 5\n",
            "value of x: 4\n",
            "value of y: 5\n"
          ]
        }
      ]
    },
    {
      "cell_type": "code",
      "source": [
        "number=89.56\n",
        "name=\"SR University\"\n",
        "print(\"%s %d %s %f\"%(name, number, number,number))"
      ],
      "metadata": {
        "colab": {
          "base_uri": "https://localhost:8080/"
        },
        "id": "skAbN5KMvKS4",
        "outputId": "1f810769-1fd8-4dd9-8706-06e45147e507"
      },
      "execution_count": null,
      "outputs": [
        {
          "output_type": "stream",
          "name": "stdout",
          "text": [
            "SR University 89 89.56 89.560000\n"
          ]
        }
      ]
    },
    {
      "cell_type": "code",
      "source": [
        "import support as s"
      ],
      "metadata": {
        "id": "27vLTpjlyAqa"
      },
      "execution_count": 9,
      "outputs": []
    },
    {
      "cell_type": "code",
      "source": [
        "s.printme(\"Laxmi\")"
      ],
      "metadata": {
        "colab": {
          "base_uri": "https://localhost:8080/"
        },
        "id": "KM6BL9EqyNQD",
        "outputId": "732fe524-2432-45ff-fc8f-b4c40bfe1f91"
      },
      "execution_count": 10,
      "outputs": [
        {
          "output_type": "stream",
          "name": "stdout",
          "text": [
            "hello Laxmi\n"
          ]
        }
      ]
    },
    {
      "cell_type": "code",
      "source": [
        "dir(s)"
      ],
      "metadata": {
        "colab": {
          "base_uri": "https://localhost:8080/"
        },
        "id": "oLRMXAvpyObb",
        "outputId": "c6469568-4415-4531-874d-ca65301cf3da"
      },
      "execution_count": 11,
      "outputs": [
        {
          "output_type": "execute_result",
          "data": {
            "text/plain": [
              "['__builtins__',\n",
              " '__cached__',\n",
              " '__doc__',\n",
              " '__file__',\n",
              " '__loader__',\n",
              " '__name__',\n",
              " '__package__',\n",
              " '__spec__',\n",
              " 'printme']"
            ]
          },
          "metadata": {},
          "execution_count": 11
        }
      ]
    },
    {
      "cell_type": "code",
      "source": [
        "import math"
      ],
      "metadata": {
        "id": "CMiArWOCyXwx"
      },
      "execution_count": 12,
      "outputs": []
    },
    {
      "cell_type": "code",
      "source": [
        "dir(math)\n",
        "print(math.pi)"
      ],
      "metadata": {
        "colab": {
          "base_uri": "https://localhost:8080/"
        },
        "id": "KGN4qn3xy1YX",
        "outputId": "50baa8a7-56c8-4746-bbc9-04cda35a6ce4"
      },
      "execution_count": 14,
      "outputs": [
        {
          "output_type": "stream",
          "name": "stdout",
          "text": [
            "3.141592653589793\n"
          ]
        }
      ]
    },
    {
      "cell_type": "code",
      "source": [
        "#import function from module\n",
        "from support import printme\n",
        "printme(\"laxmi\")"
      ],
      "metadata": {
        "colab": {
          "base_uri": "https://localhost:8080/"
        },
        "id": "Is9ZTlneyamz",
        "outputId": "9f5cface-7149-4460-a8e2-d077edec5b2e"
      },
      "execution_count": 13,
      "outputs": [
        {
          "output_type": "stream",
          "name": "stdout",
          "text": [
            "hello laxmi\n"
          ]
        }
      ]
    },
    {
      "cell_type": "code",
      "source": [
        "help('modules')"
      ],
      "metadata": {
        "colab": {
          "base_uri": "https://localhost:8080/"
        },
        "id": "RR5Lqe21yzrt",
        "outputId": "3f3bce01-9e3b-45a3-811a-74c5e7fd0fe4"
      },
      "execution_count": 15,
      "outputs": [
        {
          "output_type": "stream",
          "name": "stdout",
          "text": [
            "\n",
            "Please wait a moment while I gather a list of all available modules...\n",
            "\n"
          ]
        },
        {
          "output_type": "stream",
          "name": "stderr",
          "text": [
            "/usr/local/lib/python3.7/dist-packages/IPython/kernel/__init__.py:13: ShimWarning: The `IPython.kernel` package has been deprecated since IPython 4.0.You should import from ipykernel or jupyter_client instead.\n",
            "  \"You should import from ipykernel or jupyter_client instead.\", ShimWarning)\n",
            "WARNING: AstropyDeprecationWarning: The private astropy._erfa module has been made into its own package, pyerfa, which is a dependency of astropy and can be imported directly using \"import erfa\" [astropy._erfa]\n",
            "/usr/local/lib/python3.7/dist-packages/caffe2/__init__.py:5: UserWarning: Caffe2 support is not fully enabled in this PyTorch build. Please enable Caffe2 by building PyTorch from source with `BUILD_CAFFE2=1` flag.\n",
            "  warnings.warn(\"Caffe2 support is not fully enabled in this PyTorch build. \"\n",
            "/usr/local/lib/python3.7/dist-packages/caffe2/proto/__init__.py:17: UserWarning: Caffe2 support is not enabled in this PyTorch build. Please enable Caffe2 by building PyTorch from source with `BUILD_CAFFE2=1` flag.\n",
            "  warnings.warn('Caffe2 support is not enabled in this PyTorch build. '\n",
            "/usr/local/lib/python3.7/dist-packages/caffe2/proto/__init__.py:17: UserWarning: Caffe2 support is not enabled in this PyTorch build. Please enable Caffe2 by building PyTorch from source with `BUILD_CAFFE2=1` flag.\n",
            "  warnings.warn('Caffe2 support is not enabled in this PyTorch build. '\n",
            "/usr/local/lib/python3.7/dist-packages/caffe2/python/__init__.py:9: UserWarning: Caffe2 support is not enabled in this PyTorch build. Please enable Caffe2 by building PyTorch from source with `BUILD_CAFFE2=1` flag.\n",
            "  warnings.warn('Caffe2 support is not enabled in this PyTorch build. '\n",
            "/usr/local/lib/python3.7/dist-packages/datascience/tables.py:17: MatplotlibDeprecationWarning:\n",
            "\n",
            "The 'warn' parameter of use() is deprecated since Matplotlib 3.1 and will be removed in 3.3.  If any parameter follows 'warn', they should be pass as keyword, not positionally.\n",
            "\n",
            "/usr/local/lib/python3.7/dist-packages/datascience/util.py:10: MatplotlibDeprecationWarning:\n",
            "\n",
            "The 'warn' parameter of use() is deprecated since Matplotlib 3.1 and will be removed in 3.3.  If any parameter follows 'warn', they should be pass as keyword, not positionally.\n",
            "\n",
            "/usr/local/lib/python3.7/dist-packages/resampy/interpn.py:114: NumbaWarning:\n",
            "\n",
            "The TBB threading layer requires TBB version 2019.5 or later i.e., TBB_INTERFACE_VERSION >= 11005. Found TBB_INTERFACE_VERSION = 9107. The TBB threading layer is disabled.\n",
            "\n"
          ]
        },
        {
          "output_type": "stream",
          "name": "stdout",
          "text": [
            "Downloading http://dlib.net/files/shape_predictor_68_face_landmarks.dat.bz2 to /root/mlxtend_data/shape_predictor_68_face_landmarks.dat.bz2\n"
          ]
        },
        {
          "output_type": "stream",
          "name": "stderr",
          "text": [
            "/usr/lib/python3.7/pkgutil.py:92: UserWarning:\n",
            "\n",
            "The DICOM readers are highly experimental, unstable, and only work for Siemens time-series at the moment\n",
            "Please use with caution.  We would be grateful for your help in improving them\n",
            "\n",
            "/usr/local/lib/python3.7/dist-packages/nltk/twitter/__init__.py:21: UserWarning:\n",
            "\n",
            "The twython library has not been installed. Some functionality from the twitter package will not be available.\n",
            "\n",
            "/usr/local/lib/python3.7/dist-packages/psycopg2/__init__.py:144: UserWarning:\n",
            "\n",
            "The psycopg2 wheel package will be renamed from release 2.8; in order to keep installing from binary please use \"pip install psycopg2-binary\" instead. For details see: <http://initd.org/psycopg/docs/install.html#binary-install-from-pypi>.\n",
            "\n",
            "WARNING:pystan:This submodule contains experimental code, please use with caution\n"
          ]
        },
        {
          "output_type": "stream",
          "name": "stdout",
          "text": [
            "No CUDA runtime is found, using CUDA_HOME='/usr/local/cuda'\n",
            "Cython              community           keras_preprocessing resource\n",
            "IPython             compileall          keyword             rlcompleter\n",
            "OpenGL              concurrent          kiwisolver          rmagic\n",
            "PIL                 configparser        korean_lunar_calendar rpy2\n",
            "ScreenResolution    contextlib          langcodes           rsa\n",
            "__future__          contextlib2         lib2to3             runpy\n",
            "_abc                contextvars         libfuturize         samples\n",
            "_argon2_cffi_bindings convertdate         libpasteurize       sched\n",
            "_ast                copy                librosa             scipy\n",
            "_asyncio            copyreg             lightgbm            scs\n",
            "_bisect             coverage            linecache           seaborn\n",
            "_blake2             coveralls           llvmlite            secrets\n",
            "_bootlocale         crcmod              lmdb                select\n",
            "_bz2                crypt               locale              selectors\n",
            "_cffi_backend       csv                 logging             semver\n",
            "_codecs             ctypes              lsb_release         send2trash\n",
            "_codecs_cn          cufflinks           lunarcalendar       setuptools\n",
            "_codecs_hk          curses              lxml                setuptools_git\n",
            "_codecs_iso2022     cv2                 lzma                shapely\n",
            "_codecs_jp          cvxopt              macpath             shelve\n",
            "_codecs_kr          cvxpy               mailbox             shlex\n",
            "_codecs_tw          cycler              mailcap             shutil\n",
            "_collections        cymem               markdown            signal\n",
            "_collections_abc    cython              markupsafe          simplegeneric\n",
            "_compat_pickle      cythonmagic         marshal             site\n",
            "_compression        daft                math                sitecustomize\n",
            "_contextvars        dask                matplotlib          six\n",
            "_crypt              dataclasses         matplotlib_inline   skimage\n",
            "_csv                datascience         matplotlib_venn     sklearn\n",
            "_ctypes             datetime            mimetypes           sklearn_pandas\n",
            "_ctypes_test        dateutil            missingno           slugify\n",
            "_curses             dbm                 mistune             smart_open\n",
            "_curses_panel       dbus                mizani              smtpd\n",
            "_cvxcore            debugpy             mlxtend             smtplib\n",
            "_datetime           decimal             mmap                sndhdr\n",
            "_dbm                decorator           modulefinder        snowballstemmer\n",
            "_decimal            defusedxml          more_itertools      socket\n",
            "_distutils_hack     descartes           moviepy             socketserver\n",
            "_dummy_thread       difflib             mpmath              socks\n",
            "_ecos               dill                msgpack             sockshandler\n",
            "_elementtree        dis                 multiprocess        softwareproperties\n",
            "_functools          distributed         multiprocessing     sortedcontainers\n",
            "_hashlib            distutils           multitasking        soundfile\n",
            "_heapq              dlib                murmurhash          soupsieve\n",
            "_imp                docopt              music21             spacy\n",
            "_io                 docs                natsort             spacy_legacy\n",
            "_json               doctest             nbclient            spacy_loggers\n",
            "_locale             docutils            nbconvert           sphinx\n",
            "_lsprof             dopamine            nbformat            spwd\n",
            "_lzma               dot_parser          nest_asyncio        sql\n",
            "_markupbase         dummy_threading     netCDF4             sqlalchemy\n",
            "_md5                easydict            netrc               sqlite3\n",
            "_multibytecodec     ecos                networkx            sqlparse\n",
            "_multiprocess       editdistance        nibabel             sre_compile\n",
            "_multiprocessing    ee                  nis                 sre_constants\n",
            "_opcode             email               nisext              sre_parse\n",
            "_operator           en_core_web_sm      nltk                srsly\n",
            "_osx_support        encodings           nntplib             ssl\n",
            "_pickle             entrypoints         notebook            stat\n",
            "_plotly_future_     enum                ntpath              statistics\n",
            "_plotly_utils       ephem               nturl2path          statsmodels\n",
            "_posixsubprocess    erfa                numba               storemagic\n",
            "_py_abc             errno               numbergen           string\n",
            "_pydecimal          et_xmlfile          numbers             stringprep\n",
            "_pyio               etils               numexpr             struct\n",
            "_pyrsistent_version examples            numpy               subprocess\n",
            "_pytest             fa2                 oauth2client        sunau\n",
            "_queue              fastai              oauthlib            support\n",
            "_random             fastcore            ogr                 symbol\n",
            "_rinterface_cffi_abi fastdownload        okgrade             sympy\n",
            "_rinterface_cffi_api fastdtw             opcode              sympyprinting\n",
            "_scs_direct         fastjsonschema      openpyxl            symtable\n",
            "_scs_indirect       fastprogress        operator            sys\n",
            "_sha1               fastrlock           opt_einsum          sysconfig\n",
            "_sha256             faulthandler        optparse            syslog\n",
            "_sha3               fbprophet           os                  tables\n",
            "_sha512             fcntl               osgeo               tabnanny\n",
            "_signal             feather             osqp                tabulate\n",
            "_sitebuiltins       filecmp             osqppurepy          tarfile\n",
            "_socket             fileinput           osr                 tblib\n",
            "_soundfile          filelock            ossaudiodev         telnetlib\n",
            "_sqlite3            firebase_admin      packaging           tempfile\n",
            "_sre                fix_yahoo_finance   palettable          tenacity\n",
            "_ssl                flask               pandas              tensorboard\n",
            "_stat               flatbuffers         pandas_datareader   tensorboard_data_server\n",
            "_string             fnmatch             pandas_gbq          tensorboard_plugin_wit\n",
            "_strptime           folium              pandas_profiling    tensorflow\n",
            "_struct             formatter           pandocfilters       tensorflow_datasets\n",
            "_symtable           fractions           panel               tensorflow_estimator\n",
            "_sysconfigdata_m_linux_x86_64-linux-gnu ftplib              param               tensorflow_gcs_config\n",
            "_sysconfigdata_m_x86_64-linux-gnu functools           parser              tensorflow_hub\n",
            "_testbuffer         future              parso               tensorflow_io_gcs_filesystem\n",
            "_testcapi           gast                past                tensorflow_metadata\n",
            "_testimportmultiple gc                  pasta               tensorflow_probability\n",
            "_testmultiphase     gdal                pathlib             termcolor\n",
            "_thread             gdalconst           pathy               terminado\n",
            "_threading_local    gdalnumeric         patsy               termios\n",
            "_tkinter            gdown               pdb                 test\n",
            "_tracemalloc        genericpath         pep517              testpath\n",
            "_warnings           gensim              pexpect             tests\n",
            "_weakref            geographiclib       pickle              text_unidecode\n",
            "_weakrefset         geopy               pickleshare         textblob\n",
            "_xxtestfuzz         getopt              pickletools         textwrap\n",
            "abc                 getpass             pip                 theano\n",
            "absl                gettext             pipes               thinc\n",
            "aifc                gi                  piptools            this\n",
            "alabaster           gin                 pkg_resources       threading\n",
            "albumentations      glob                pkgutil             threadpoolctl\n",
            "altair              glob2               platform            tifffile\n",
            "antigravity         gnm                 plistlib            time\n",
            "apiclient           google_auth_httplib2 plotly              timeit\n",
            "appdirs             google_auth_oauthlib plotlywidget        tinycss2\n",
            "apt                 google_drive_downloader plotnine            tkinter\n",
            "apt_inst            googleapiclient     pluggy              tlz\n",
            "apt_pkg             googlesearch        pooch               token\n",
            "aptsources          graphviz            poplib              tokenize\n",
            "argon2              greenlet            portpicker          tomli\n",
            "argparse            gridfs              posix               toolz\n",
            "array               grp                 posixpath           torch\n",
            "arviz               grpc                pprint              torchaudio\n",
            "ast                 gspread             prefetch_generator  torchgen\n",
            "astor               gspread_dataframe   preshed             torchsummary\n",
            "astropy             gym                 prettytable         torchtext\n",
            "astunparse          gzip                profile             torchvision\n",
            "asynchat            h5py                progressbar         tornado\n",
            "asyncio             hashlib             prometheus_client   tqdm\n",
            "asyncore            heapdict            promise             trace\n",
            "atari_py            heapq               prompt_toolkit      traceback\n",
            "atexit              hijri_converter     pstats              tracemalloc\n",
            "atomicwrites        hmac                psutil              traitlets\n",
            "attr                holidays            psycopg2            tree\n",
            "attrs               holoviews           pty                 tty\n",
            "audioop             html                ptyprocess          turtle\n",
            "audioread           html5lib            pvectorc            tweepy\n",
            "autograd            http                pwd                 typeguard\n",
            "autoreload          httpimport          py                  typer\n",
            "babel               httplib2            py_compile          types\n",
            "backcall            httplib2shim        pyarrow             typing\n",
            "base64              humanize            pyasn1              typing_extensions\n",
            "bdb                 hyperopt            pyasn1_modules      tzlocal\n",
            "bin                 ideep4py            pyclbr              unicodedata\n",
            "binascii            idna                pycocotools         unittest\n",
            "binhex              imageio             pycparser           uritemplate\n",
            "bisect              imagesize           pyct                urllib\n",
            "bleach              imaplib             pydantic            urllib3\n",
            "blis                imblearn            pydata_google_auth  uu\n",
            "bokeh               imgaug              pydoc               uuid\n",
            "boost               imghdr              pydoc_data          vega_datasets\n",
            "branca              imp                 pydot               venv\n",
            "bs4                 importlib           pydot_ng            vis\n",
            "bson                importlib_metadata  pydotplus           warnings\n",
            "builtins            importlib_resources pydrive             wasabi\n",
            "bz2                 imutils             pyemd               wave\n",
            "cProfile            inflect             pyexpat             wcwidth\n",
            "cachecontrol        iniconfig           pyglet              weakref\n",
            "cached_property     inspect             pygments            webbrowser\n",
            "cachetools          intervaltree        pygtkcompat         webencodings\n",
            "caffe2              io                  pylab               werkzeug\n",
            "calendar            ipaddress           pymc3               wheel\n",
            "catalogue           ipykernel           pymeeus             widgetsnbextension\n",
            "certifi             ipykernel_launcher  pymongo             wordcloud\n",
            "cffi                ipython_genutils    pymystem3           wrapt\n",
            "cftime              ipywidgets          pyparsing           wsgiref\n",
            "cgi                 isympy              pyrsistent          xarray\n",
            "cgitb               itertools           pysndfile           xarray_einstats\n",
            "chardet             itsdangerous        pystan              xdrlib\n",
            "charset_normalizer  jax                 pytest              xgboost\n",
            "chess               jaxlib              python_utils        xkit\n",
            "chunk               jedi                pytz                xlrd\n",
            "clang               jieba               pyviz_comms         xlwt\n",
            "click               jinja2              pywt                xml\n",
            "client              joblib              pyximport           xmlrpc\n",
            "cloudpickle         jpeg4py             qdldl               xxlimited\n",
            "cmake               json                qtconsole           xxsubtype\n",
            "cmath               jsonschema          qtpy                yaml\n",
            "cmd                 jupyter             queue               yellowbrick\n",
            "cmdstanpy           jupyter_client      quopri              zict\n",
            "code                jupyter_console     random              zipapp\n",
            "codecs              jupyter_core        re                  zipfile\n",
            "codeop              jupyterlab_plotly   readline            zipimport\n",
            "colab               jupyterlab_pygments regex               zipp\n",
            "collections         jupyterlab_widgets  reprlib             zlib\n",
            "colorcet            kaggle              requests            zmq\n",
            "colorlover          kapre               requests_oauthlib   \n",
            "colorsys            keras               resampy             \n",
            "\n",
            "Enter any module name to get more help.  Or, type \"modules spam\" to search\n",
            "for modules whose name or summary contain the string \"spam\".\n",
            "\n"
          ]
        }
      ]
    },
    {
      "cell_type": "code",
      "source": [
        "import statistics as sts\n",
        "sts.mean([2,4,6,8])"
      ],
      "metadata": {
        "colab": {
          "base_uri": "https://localhost:8080/"
        },
        "id": "Hm0OxgcrzPfo",
        "outputId": "5cdf5cae-84cb-4dbd-9769-a7a8424269fd"
      },
      "execution_count": 16,
      "outputs": [
        {
          "output_type": "execute_result",
          "data": {
            "text/plain": [
              "5"
            ]
          },
          "metadata": {},
          "execution_count": 16
        }
      ]
    }
  ]
}