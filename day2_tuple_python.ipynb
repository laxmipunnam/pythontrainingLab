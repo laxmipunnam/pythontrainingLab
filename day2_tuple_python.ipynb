{
  "nbformat": 4,
  "nbformat_minor": 0,
  "metadata": {
    "colab": {
      "name": "day2_tuple_python.ipynb",
      "provenance": [],
      "authorship_tag": "ABX9TyNhMjVbD/K6yObWcyi7Opfd",
      "include_colab_link": true
    },
    "kernelspec": {
      "name": "python3",
      "display_name": "Python 3"
    },
    "language_info": {
      "name": "python"
    }
  },
  "cells": [
    {
      "cell_type": "markdown",
      "metadata": {
        "id": "view-in-github",
        "colab_type": "text"
      },
      "source": [
        "<a href=\"https://colab.research.google.com/github/laxmipunnam/pythontrainingLab/blob/main/day2_tuple_python.ipynb\" target=\"_parent\"><img src=\"https://colab.research.google.com/assets/colab-badge.svg\" alt=\"Open In Colab\"/></a>"
      ]
    },
    {
      "cell_type": "code",
      "execution_count": null,
      "metadata": {
        "colab": {
          "base_uri": "https://localhost:8080/"
        },
        "id": "Sq5R-utoCYsA",
        "outputId": "0f3812ea-0708-4588-9b1e-917e36a1361e"
      },
      "outputs": [
        {
          "output_type": "stream",
          "name": "stdout",
          "text": [
            "<class 'tuple'>\n",
            "('apple', 'banana', 'cherry', 'kiwi', 'mango')\n",
            "<class 'tuple'>\n"
          ]
        }
      ],
      "source": [
        "#empty tuple\n",
        "tup0=()\n",
        "type(tup0)\n",
        "\n",
        "\n",
        "#tuple with one element\n",
        "tuple1=(1,)\n",
        "print(type(tuple1))\n",
        "\n",
        "\n",
        "#create tuple with multiple elements\n",
        "fruits=('apple','banana','cherry','kiwi','mango')\n",
        "print(fruits)\n",
        "print(type(fruits))\n",
        "\n"
      ]
    },
    {
      "cell_type": "code",
      "source": [
        "#to make any change ,you need to convert the tuple into list\n",
        "list1=list(fruits)\n",
        "print(list1)\n",
        "\n",
        "list1[1]=\"chiku\"\n",
        "\n",
        "print(list1)\n",
        "\n",
        "#convert it back to tuple\n",
        "\n",
        "fruits=tuple(list1)\n",
        "\n",
        "print(fruits)"
      ],
      "metadata": {
        "colab": {
          "base_uri": "https://localhost:8080/"
        },
        "id": "4-DWRmKBD08d",
        "outputId": "e2c2210d-69f5-47b6-d49a-0e56329a9383"
      },
      "execution_count": null,
      "outputs": [
        {
          "output_type": "stream",
          "name": "stdout",
          "text": [
            "['apple', 'banana', 'cherry', 'kiwi', 'mango']\n",
            "['apple', 'chiku', 'cherry', 'kiwi', 'mango']\n",
            "('apple', 'chiku', 'cherry', 'kiwi', 'mango')\n"
          ]
        }
      ]
    },
    {
      "cell_type": "code",
      "source": [
        "#you can use tuple constructor to create any tuple\n",
        "tuple2=tuple((1,2,3,4,5,6,7,6))\n",
        "print(type(tuple2))"
      ],
      "metadata": {
        "colab": {
          "base_uri": "https://localhost:8080/"
        },
        "id": "yo9dtVsaESBj",
        "outputId": "d4983e53-ad29-405e-8aa4-616949225814"
      },
      "execution_count": null,
      "outputs": [
        {
          "output_type": "stream",
          "name": "stdout",
          "text": [
            "<class 'tuple'>\n"
          ]
        }
      ]
    },
    {
      "cell_type": "code",
      "source": [
        "tuple2[2:5]"
      ],
      "metadata": {
        "colab": {
          "base_uri": "https://localhost:8080/"
        },
        "id": "nmQiM4C-ER-A",
        "outputId": "d268ae17-0a39-4e68-99df-4a74b598f3bb"
      },
      "execution_count": null,
      "outputs": [
        {
          "output_type": "execute_result",
          "data": {
            "text/plain": [
              "(3, 4, 5)"
            ]
          },
          "metadata": {},
          "execution_count": 6
        }
      ]
    },
    {
      "cell_type": "code",
      "source": [
        "#iterate using loop\n",
        "for x in tuple2:\n",
        "  print(x)"
      ],
      "metadata": {
        "colab": {
          "base_uri": "https://localhost:8080/"
        },
        "id": "hg-omQTgER6K",
        "outputId": "a4fc7f1e-cce4-4c0f-dc07-b5fdf2f755f4"
      },
      "execution_count": null,
      "outputs": [
        {
          "output_type": "stream",
          "name": "stdout",
          "text": [
            "1\n",
            "2\n",
            "3\n",
            "4\n",
            "5\n",
            "6\n",
            "7\n",
            "6\n"
          ]
        }
      ]
    },
    {
      "cell_type": "code",
      "source": [
        "#membership\n",
        "if 8 not in tuple2:\n",
        "  print(\"yes 8 is not there:\",tuple2)\n",
        "else:\n",
        "  print(\"no 8 is there\",tuple2)"
      ],
      "metadata": {
        "colab": {
          "base_uri": "https://localhost:8080/"
        },
        "id": "LD4QtZXdER3g",
        "outputId": "221e1e23-13c2-4077-baf8-9591972000cb"
      },
      "execution_count": null,
      "outputs": [
        {
          "output_type": "stream",
          "name": "stdout",
          "text": [
            "yes 8 is not there: (1, 2, 3, 4, 5, 6, 7, 6)\n"
          ]
        }
      ]
    },
    {
      "cell_type": "code",
      "source": [
        "#remove method\n",
        "t1=(1,2,3,4,5,6)\n",
        "print(type(t1))\n",
        "t1=list(t1)\n",
        "print(type(t1))\n",
        "t1.remove(4)\n",
        "print(t1)\n",
        "t1=tuple(t1)\n",
        "print(type(t1))"
      ],
      "metadata": {
        "colab": {
          "base_uri": "https://localhost:8080/"
        },
        "id": "BaUAk_QDER0J",
        "outputId": "323446ef-9313-4d0e-ab5d-5148476eb58a"
      },
      "execution_count": null,
      "outputs": [
        {
          "output_type": "stream",
          "name": "stdout",
          "text": [
            "<class 'tuple'>\n",
            "[1, 2, 3, 5, 6]\n",
            "<class 'tuple'>\n"
          ]
        }
      ]
    },
    {
      "cell_type": "code",
      "source": [
        "print(tuple2.count(6))\n",
        "print(tuple2.index(6))"
      ],
      "metadata": {
        "colab": {
          "base_uri": "https://localhost:8080/"
        },
        "id": "VwyFJg23ERw6",
        "outputId": "156e1ea1-6e83-4520-ce7a-37ff791d48c5"
      },
      "execution_count": null,
      "outputs": [
        {
          "output_type": "stream",
          "name": "stdout",
          "text": [
            "2\n",
            "5\n"
          ]
        }
      ]
    },
    {
      "cell_type": "code",
      "source": [
        "#use del keyword to delete the tuple: but it will remove the entire definition\n",
        "del tuple2\n",
        "tuple2"
      ],
      "metadata": {
        "colab": {
          "base_uri": "https://localhost:8080/",
          "height": 200
        },
        "id": "-Z4QpAykG2wu",
        "outputId": "bd290de3-0883-4417-9adb-7e9ba01e11d8"
      },
      "execution_count": null,
      "outputs": [
        {
          "output_type": "error",
          "ename": "NameError",
          "evalue": "ignored",
          "traceback": [
            "\u001b[0;31m---------------------------------------------------------------------------\u001b[0m",
            "\u001b[0;31mNameError\u001b[0m                                 Traceback (most recent call last)",
            "\u001b[0;32m<ipython-input-17-2633e30b255b>\u001b[0m in \u001b[0;36m<module>\u001b[0;34m()\u001b[0m\n\u001b[1;32m      1\u001b[0m \u001b[0;31m#use del keyword to delete the tuple: but it will remove the entire definition\u001b[0m\u001b[0;34m\u001b[0m\u001b[0;34m\u001b[0m\u001b[0;34m\u001b[0m\u001b[0m\n\u001b[0;32m----> 2\u001b[0;31m \u001b[0;32mdel\u001b[0m \u001b[0mtuple2\u001b[0m\u001b[0;34m\u001b[0m\u001b[0;34m\u001b[0m\u001b[0m\n\u001b[0m\u001b[1;32m      3\u001b[0m \u001b[0mtuple2\u001b[0m\u001b[0;34m\u001b[0m\u001b[0;34m\u001b[0m\u001b[0m\n",
            "\u001b[0;31mNameError\u001b[0m: name 'tuple2' is not defined"
          ]
        }
      ]
    }
  ]
}