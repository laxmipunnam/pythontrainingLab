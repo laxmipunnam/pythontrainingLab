{
  "nbformat": 4,
  "nbformat_minor": 0,
  "metadata": {
    "colab": {
      "name": "exceptionHandling_day3.ipynb",
      "provenance": [],
      "authorship_tag": "ABX9TyMUOvWjZQj+qyaGcFqXrLjS",
      "include_colab_link": true
    },
    "kernelspec": {
      "name": "python3",
      "display_name": "Python 3"
    },
    "language_info": {
      "name": "python"
    }
  },
  "cells": [
    {
      "cell_type": "markdown",
      "metadata": {
        "id": "view-in-github",
        "colab_type": "text"
      },
      "source": [
        "<a href=\"https://colab.research.google.com/github/laxmipunnam/pythontrainingLab/blob/main/exceptionHandling_day3.ipynb\" target=\"_parent\"><img src=\"https://colab.research.google.com/assets/colab-badge.svg\" alt=\"Open In Colab\"/></a>"
      ]
    },
    {
      "cell_type": "code",
      "execution_count": 2,
      "metadata": {
        "colab": {
          "base_uri": "https://localhost:8080/"
        },
        "id": "ZjnZ1DD34DY0",
        "outputId": "ee8bb6ce-9392-4741-b6d5-f88836ae8ce5"
      },
      "outputs": [
        {
          "name": "stdout",
          "output_type": "stream",
          "text": [
            "enter your input:4\n"
          ]
        }
      ],
      "source": [
        "x=int(input(\"enter your input:\"))"
      ]
    },
    {
      "cell_type": "code",
      "source": [
        "x=int(input(\"enter your input:\"))"
      ],
      "metadata": {
        "colab": {
          "base_uri": "https://localhost:8080/",
          "height": 182
        },
        "id": "Kml5_Dej4dN2",
        "outputId": "112c3b0d-f68e-418a-d427-797ba61ba59b"
      },
      "execution_count": 4,
      "outputs": [
        {
          "name": "stdout",
          "output_type": "stream",
          "text": [
            "enter your input:laxmi\n"
          ]
        },
        {
          "output_type": "error",
          "ename": "ValueError",
          "evalue": "ignored",
          "traceback": [
            "\u001b[0;31m---------------------------------------------------------------------------\u001b[0m",
            "\u001b[0;31mValueError\u001b[0m                                Traceback (most recent call last)",
            "\u001b[0;32m<ipython-input-4-7f74870ae4cc>\u001b[0m in \u001b[0;36m<module>\u001b[0;34m()\u001b[0m\n\u001b[0;32m----> 1\u001b[0;31m \u001b[0mx\u001b[0m\u001b[0;34m=\u001b[0m\u001b[0mint\u001b[0m\u001b[0;34m(\u001b[0m\u001b[0minput\u001b[0m\u001b[0;34m(\u001b[0m\u001b[0;34m\"enter your input:\"\u001b[0m\u001b[0;34m)\u001b[0m\u001b[0;34m)\u001b[0m\u001b[0;34m\u001b[0m\u001b[0;34m\u001b[0m\u001b[0m\n\u001b[0m",
            "\u001b[0;31mValueError\u001b[0m: invalid literal for int() with base 10: 'laxmi'"
          ]
        }
      ]
    },
    {
      "cell_type": "code",
      "source": [
        "try:\n",
        "  x=int(input(\"enter your input:\"))\n",
        "except ValueError:\n",
        "  print(\"you enter a string, try giving integer as input\")"
      ],
      "metadata": {
        "colab": {
          "base_uri": "https://localhost:8080/"
        },
        "id": "_Mu71PGk4lqZ",
        "outputId": "8cba5020-70d9-4a04-c55b-6fbe1ce2a0e6"
      },
      "execution_count": 5,
      "outputs": [
        {
          "output_type": "stream",
          "name": "stdout",
          "text": [
            "enter your input:laxmi\n",
            "you enter a string, try giving integer as input\n"
          ]
        }
      ]
    },
    {
      "cell_type": "code",
      "source": [
        "try:\n",
        "  print(x1)\n",
        "except:\n",
        "  print(\"your exception has been handled by except block\")\n",
        "\n",
        "finally:\n",
        "  print(\"finally\")"
      ],
      "metadata": {
        "colab": {
          "base_uri": "https://localhost:8080/"
        },
        "id": "kjtI1wNu5D-A",
        "outputId": "3a25c4a2-e29d-40d9-dac3-60588ea8c54b"
      },
      "execution_count": 7,
      "outputs": [
        {
          "output_type": "stream",
          "name": "stdout",
          "text": [
            "your exception has been handled by except block\n",
            "finally\n"
          ]
        }
      ]
    },
    {
      "cell_type": "code",
      "source": [
        "try:\n",
        "  x1=\"Laxmi\"\n",
        "  print(x1)\n",
        "  f=open(\"demo.text\",'r')#create a exception as we donnot have demo.text in our directory\n",
        "except NameError:\n",
        "  print(\"your NameError exception has been handled by except block\")\n",
        "except FileNotFoundError:\n",
        "  print(\"your FileNotFoundError exception has been handled by except block\")\n",
        "except ValueError:\n",
        "  print(\"your ValueError exception has been handled by except block\")\n",
        "else:\n",
        "  print(\"no exception is there\")\n",
        "\n",
        "finally:\n",
        "  print(\"finally\")"
      ],
      "metadata": {
        "colab": {
          "base_uri": "https://localhost:8080/"
        },
        "id": "sN83rVbM5qI4",
        "outputId": "56242c44-9e36-4a3f-f9e5-e25f45899b6d"
      },
      "execution_count": 8,
      "outputs": [
        {
          "output_type": "stream",
          "name": "stdout",
          "text": [
            "Laxmi\n",
            "your FileNotFoundError exception has been handled by except block\n",
            "finally\n"
          ]
        }
      ]
    },
    {
      "cell_type": "code",
      "source": [
        "try:\n",
        "  x1=\"Laxmi\"\n",
        "  print(x1)\n",
        "  \n",
        "except NameError:\n",
        "  print(\"your NameError exception has been handled by except block\")\n",
        "except FileNotFoundError:\n",
        "  print(\"your FileNotFoundError exception has been handled by except block\")\n",
        "except ValueError:\n",
        "  print(\"your ValueError exception has been handled by except block\")\n",
        "else:\n",
        "  print(\"no exception is there\")\n",
        "\n",
        "finally:\n",
        "  print(\"finally\")"
      ],
      "metadata": {
        "colab": {
          "base_uri": "https://localhost:8080/"
        },
        "id": "qcRq5RDG62qk",
        "outputId": "66f59c13-4a39-482e-888e-e3216f471fa6"
      },
      "execution_count": 9,
      "outputs": [
        {
          "output_type": "stream",
          "name": "stdout",
          "text": [
            "Laxmi\n",
            "no exception is there\n",
            "finally\n"
          ]
        }
      ]
    },
    {
      "cell_type": "markdown",
      "source": [
        "Raise Exception in python"
      ],
      "metadata": {
        "id": "Wxoy5zZn698f"
      }
    },
    {
      "cell_type": "code",
      "source": [
        "x=-1\n",
        "if x<0:\n",
        "  raise Exception(\"sorry you enter a negative number,try again with poitive number\")"
      ],
      "metadata": {
        "colab": {
          "base_uri": "https://localhost:8080/",
          "height": 200
        },
        "id": "t24ZmIQm689n",
        "outputId": "1e4f302d-8612-499c-9f64-d3757d8d94f0"
      },
      "execution_count": 1,
      "outputs": [
        {
          "output_type": "error",
          "ename": "Exception",
          "evalue": "ignored",
          "traceback": [
            "\u001b[0;31m---------------------------------------------------------------------------\u001b[0m",
            "\u001b[0;31mException\u001b[0m                                 Traceback (most recent call last)",
            "\u001b[0;32m<ipython-input-1-7d92c7902de4>\u001b[0m in \u001b[0;36m<module>\u001b[0;34m()\u001b[0m\n\u001b[1;32m      1\u001b[0m \u001b[0mx\u001b[0m\u001b[0;34m=\u001b[0m\u001b[0;34m-\u001b[0m\u001b[0;36m1\u001b[0m\u001b[0;34m\u001b[0m\u001b[0;34m\u001b[0m\u001b[0m\n\u001b[1;32m      2\u001b[0m \u001b[0;32mif\u001b[0m \u001b[0mx\u001b[0m\u001b[0;34m<\u001b[0m\u001b[0;36m0\u001b[0m\u001b[0;34m:\u001b[0m\u001b[0;34m\u001b[0m\u001b[0;34m\u001b[0m\u001b[0m\n\u001b[0;32m----> 3\u001b[0;31m   \u001b[0;32mraise\u001b[0m \u001b[0mException\u001b[0m\u001b[0;34m(\u001b[0m\u001b[0;34m\"sorry you enter a negative number,try again with poitive number\"\u001b[0m\u001b[0;34m)\u001b[0m\u001b[0;34m\u001b[0m\u001b[0;34m\u001b[0m\u001b[0m\n\u001b[0m",
            "\u001b[0;31mException\u001b[0m: sorry you enter a negative number,try again with poitive number"
          ]
        }
      ]
    }
  ]
}