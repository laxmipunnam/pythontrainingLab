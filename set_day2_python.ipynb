{
  "nbformat": 4,
  "nbformat_minor": 0,
  "metadata": {
    "colab": {
      "name": "set_day2_python.ipynb",
      "provenance": [],
      "authorship_tag": "ABX9TyOaw8QSSr50mN2Xk0uU2XNF",
      "include_colab_link": true
    },
    "kernelspec": {
      "name": "python3",
      "display_name": "Python 3"
    },
    "language_info": {
      "name": "python"
    }
  },
  "cells": [
    {
      "cell_type": "markdown",
      "metadata": {
        "id": "view-in-github",
        "colab_type": "text"
      },
      "source": [
        "<a href=\"https://colab.research.google.com/github/laxmipunnam/pythontrainingLab/blob/main/set_day2_python.ipynb\" target=\"_parent\"><img src=\"https://colab.research.google.com/assets/colab-badge.svg\" alt=\"Open In Colab\"/></a>"
      ]
    },
    {
      "cell_type": "code",
      "execution_count": 3,
      "metadata": {
        "colab": {
          "base_uri": "https://localhost:8080/"
        },
        "id": "GvZVvxsgokcK",
        "outputId": "fbe3510d-de86-451c-c52c-4f694d01124a"
      },
      "outputs": [
        {
          "output_type": "stream",
          "name": "stdout",
          "text": [
            "{'cherry', 'apple', 'banana'}\n",
            "<class 'set'>\n"
          ]
        }
      ],
      "source": [
        "#create a set\n",
        "fruit={\"apple\",\"banana\",\"cherry\"}\n",
        "print(fruit)\n",
        "print(type(fruit)) "
      ]
    },
    {
      "cell_type": "code",
      "source": [
        "#create using set cluster\n",
        "thisset=set((\"abc\",123,True,4.0,\"male\"))\n",
        "print(thisset)\n",
        "print(type(thisset))"
      ],
      "metadata": {
        "colab": {
          "base_uri": "https://localhost:8080/"
        },
        "id": "RCDd8IEho_Fb",
        "outputId": "3f277337-a3a4-4435-d227-00230c8bb07d"
      },
      "execution_count": 2,
      "outputs": [
        {
          "output_type": "stream",
          "name": "stdout",
          "text": [
            "{True, 4.0, 'male', 'abc', 123}\n",
            "<class 'set'>\n"
          ]
        }
      ]
    },
    {
      "cell_type": "code",
      "source": [
        "#access the element\n",
        "for x in thisset:\n",
        "  print(x)"
      ],
      "metadata": {
        "colab": {
          "base_uri": "https://localhost:8080/"
        },
        "id": "MbAs5zfTpW4K",
        "outputId": "387b4227-6eb2-4964-eeee-4c2baaeca79f"
      },
      "execution_count": 4,
      "outputs": [
        {
          "output_type": "stream",
          "name": "stdout",
          "text": [
            "True\n",
            "4.0\n",
            "male\n",
            "abc\n",
            "123\n"
          ]
        }
      ]
    },
    {
      "cell_type": "code",
      "source": [
        "print('abc' in thisset)"
      ],
      "metadata": {
        "colab": {
          "base_uri": "https://localhost:8080/"
        },
        "id": "gIM3KHUZplL6",
        "outputId": "bc3545a5-b727-4d09-e3c0-53b47d6c09e5"
      },
      "execution_count": 5,
      "outputs": [
        {
          "output_type": "stream",
          "name": "stdout",
          "text": [
            "True\n"
          ]
        }
      ]
    },
    {
      "cell_type": "code",
      "source": [
        "#add method to add element\n",
        "#fruit={\"apple\",\"banana\",\"cherry\"}\n",
        "fruit.add(\"orange\")\n",
        "print(fruit)"
      ],
      "metadata": {
        "colab": {
          "base_uri": "https://localhost:8080/"
        },
        "id": "BZkxBzfBpqv1",
        "outputId": "2861f159-092d-4e9b-fc51-bffbc54e00e0"
      },
      "execution_count": 6,
      "outputs": [
        {
          "output_type": "stream",
          "name": "stdout",
          "text": [
            "{'orange', 'cherry', 'apple', 'banana'}\n"
          ]
        }
      ]
    },
    {
      "cell_type": "code",
      "source": [
        "#add two set using the update method\n",
        "newset={'pineapple','mango'}\n",
        "fruit.update(newset)\n",
        "\n",
        "print(fruit)\n"
      ],
      "metadata": {
        "colab": {
          "base_uri": "https://localhost:8080/"
        },
        "id": "JyYiE3llp8TW",
        "outputId": "2117d6be-4530-4723-f469-4a910fc49a0b"
      },
      "execution_count": 7,
      "outputs": [
        {
          "output_type": "stream",
          "name": "stdout",
          "text": [
            "{'orange', 'cherry', 'apple', 'mango', 'banana', 'pineapple'}\n"
          ]
        }
      ]
    },
    {
      "cell_type": "code",
      "source": [
        "#check if we can add any list to our set\n",
        "list1=['kiwi','melon']\n",
        "fruit.update(list1)\n",
        "\n",
        "print(fruit)"
      ],
      "metadata": {
        "colab": {
          "base_uri": "https://localhost:8080/"
        },
        "id": "hxcDQGgiqcKD",
        "outputId": "7537c8e4-7e88-4f14-87af-6ef4ee338427"
      },
      "execution_count": 8,
      "outputs": [
        {
          "output_type": "stream",
          "name": "stdout",
          "text": [
            "{'orange', 'cherry', 'apple', 'mango', 'banana', 'kiwi', 'melon', 'pineapple'}\n"
          ]
        }
      ]
    },
    {
      "cell_type": "code",
      "source": [
        "#remove method\n",
        "fruit.remove('orange')\n",
        "print(fruit)"
      ],
      "metadata": {
        "colab": {
          "base_uri": "https://localhost:8080/"
        },
        "id": "MdULBGNBqofm",
        "outputId": "5231de94-0b79-423d-9490-7262bad86068"
      },
      "execution_count": 9,
      "outputs": [
        {
          "output_type": "stream",
          "name": "stdout",
          "text": [
            "{'cherry', 'apple', 'mango', 'banana', 'kiwi', 'melon', 'pineapple'}\n"
          ]
        }
      ]
    },
    {
      "cell_type": "code",
      "source": [
        "#discard method-it won't give error even if the element is not there\n",
        "fruit.discard('orange')"
      ],
      "metadata": {
        "id": "CiD083Y4qze6"
      },
      "execution_count": 12,
      "outputs": []
    },
    {
      "cell_type": "code",
      "source": [
        "fruit.remove('orange')\n",
        "print(fruit)"
      ],
      "metadata": {
        "colab": {
          "base_uri": "https://localhost:8080/",
          "height": 182
        },
        "id": "wpOe9J5cq9v9",
        "outputId": "113e2929-c5d0-4e7a-d45d-3ffe244a089c"
      },
      "execution_count": 11,
      "outputs": [
        {
          "output_type": "error",
          "ename": "KeyError",
          "evalue": "ignored",
          "traceback": [
            "\u001b[0;31m---------------------------------------------------------------------------\u001b[0m",
            "\u001b[0;31mKeyError\u001b[0m                                  Traceback (most recent call last)",
            "\u001b[0;32m<ipython-input-11-8743746972c8>\u001b[0m in \u001b[0;36m<module>\u001b[0;34m()\u001b[0m\n\u001b[0;32m----> 1\u001b[0;31m \u001b[0mfruit\u001b[0m\u001b[0;34m.\u001b[0m\u001b[0mremove\u001b[0m\u001b[0;34m(\u001b[0m\u001b[0;34m'orange'\u001b[0m\u001b[0;34m)\u001b[0m\u001b[0;34m\u001b[0m\u001b[0;34m\u001b[0m\u001b[0m\n\u001b[0m\u001b[1;32m      2\u001b[0m \u001b[0mprint\u001b[0m\u001b[0;34m(\u001b[0m\u001b[0mfruit\u001b[0m\u001b[0;34m)\u001b[0m\u001b[0;34m\u001b[0m\u001b[0;34m\u001b[0m\u001b[0m\n",
            "\u001b[0;31mKeyError\u001b[0m: 'orange'"
          ]
        }
      ]
    },
    {
      "cell_type": "code",
      "source": [
        "print(fruit)"
      ],
      "metadata": {
        "colab": {
          "base_uri": "https://localhost:8080/"
        },
        "id": "9P0e6gyTrGK5",
        "outputId": "5f1539ba-2672-4b49-81e6-cd45852ebf99"
      },
      "execution_count": 13,
      "outputs": [
        {
          "output_type": "stream",
          "name": "stdout",
          "text": [
            "{'cherry', 'apple', 'mango', 'banana', 'kiwi', 'melon', 'pineapple'}\n"
          ]
        }
      ]
    },
    {
      "cell_type": "code",
      "source": [
        "#clear()\n",
        "#del"
      ],
      "metadata": {
        "id": "QITfmwEBrGGE"
      },
      "execution_count": null,
      "outputs": []
    },
    {
      "cell_type": "code",
      "source": [
        "x={\"apple\",\"banana\",\"cherry\"}\n",
        "y={\"google\",\"microsoft\",\"apple\"}\n",
        "\n",
        "z=x.difference(y)\n",
        "\n",
        "print(\"value of x\",x)\n",
        "print(\"value of y\",y)\n",
        "print(\"value of z\",z)"
      ],
      "metadata": {
        "colab": {
          "base_uri": "https://localhost:8080/"
        },
        "id": "gKEoYpytrXVi",
        "outputId": "360b951d-f50b-4230-b1fc-50b58134a427"
      },
      "execution_count": 14,
      "outputs": [
        {
          "output_type": "stream",
          "name": "stdout",
          "text": [
            "value of x {'cherry', 'apple', 'banana'}\n",
            "value of y {'microsoft', 'apple', 'google'}\n",
            "value of z {'cherry', 'banana'}\n"
          ]
        }
      ]
    },
    {
      "cell_type": "code",
      "source": [
        "x={\"apple\",\"banana\",\"cherry\"}\n",
        "y={\"google\",\"microsoft\",\"apple\"}\n",
        "\n",
        "z=x.difference_update(y)\n",
        "\n",
        "print(\"value of x\",x)\n",
        "print(\"value of y\",y)\n",
        "print(\"value of z\",z)"
      ],
      "metadata": {
        "colab": {
          "base_uri": "https://localhost:8080/"
        },
        "id": "9X2EUSzir0cE",
        "outputId": "efd5dcce-4d9d-4f94-b703-67bbab40666f"
      },
      "execution_count": 15,
      "outputs": [
        {
          "output_type": "stream",
          "name": "stdout",
          "text": [
            "value of x {'cherry', 'banana'}\n",
            "value of y {'microsoft', 'apple', 'google'}\n",
            "value of z None\n"
          ]
        }
      ]
    },
    {
      "cell_type": "code",
      "source": [
        "x={\"apple\",\"banana\",\"cherry\"}\n",
        "y={\"google\",\"microsoft\",\"apple\"}\n",
        "\n",
        "z=x.intersection(y)\n",
        "\n",
        "print(\"value of x\",x)\n",
        "print(\"value of y\",y)\n",
        "print(\"value of z\",z)"
      ],
      "metadata": {
        "colab": {
          "base_uri": "https://localhost:8080/"
        },
        "id": "xpMVidRGrzvN",
        "outputId": "74f3873d-b408-40aa-c5d2-a2284dd992bb"
      },
      "execution_count": 16,
      "outputs": [
        {
          "output_type": "stream",
          "name": "stdout",
          "text": [
            "value of x {'cherry', 'apple', 'banana'}\n",
            "value of y {'microsoft', 'apple', 'google'}\n",
            "value of z {'apple'}\n"
          ]
        }
      ]
    },
    {
      "cell_type": "code",
      "source": [
        "x={\"apple\",\"banana\",\"cherry\"}\n",
        "y={\"google\",\"microsoft\",\"apple\"}\n",
        "\n",
        "z=x.intersection_update(y)\n",
        "\n",
        "print(\"value of x\",x)\n",
        "print(\"value of y\",y)\n",
        "print(\"value of z\",z)"
      ],
      "metadata": {
        "colab": {
          "base_uri": "https://localhost:8080/"
        },
        "id": "qK7H26_tsE_c",
        "outputId": "c003f007-1a68-4d5f-a473-4a2bc560513a"
      },
      "execution_count": 17,
      "outputs": [
        {
          "output_type": "stream",
          "name": "stdout",
          "text": [
            "value of x {'apple'}\n",
            "value of y {'microsoft', 'apple', 'google'}\n",
            "value of z None\n"
          ]
        }
      ]
    },
    {
      "cell_type": "code",
      "source": [
        "x={\"apple\",\"banana\",\"cherry\"}\n",
        "y={\"google\",\"microsoft\",\"apple\"}\n",
        "\n",
        "z=x.symmetric_difference(y)\n",
        "\n",
        "print(\"value of x\",x)\n",
        "print(\"value of y\",y)\n",
        "print(\"value of z\",z)"
      ],
      "metadata": {
        "colab": {
          "base_uri": "https://localhost:8080/"
        },
        "id": "yTjbpuT_sK9Q",
        "outputId": "1bad1d49-2a33-407b-fd30-aa61dd6d1e6a"
      },
      "execution_count": 18,
      "outputs": [
        {
          "output_type": "stream",
          "name": "stdout",
          "text": [
            "value of x {'cherry', 'apple', 'banana'}\n",
            "value of y {'microsoft', 'apple', 'google'}\n",
            "value of z {'cherry', 'google', 'banana', 'microsoft'}\n"
          ]
        }
      ]
    },
    {
      "cell_type": "code",
      "source": [
        "x={\"apple\",\"banana\",\"cherry\"}\n",
        "y={\"google\",\"microsoft\",\"apple\"}\n",
        "\n",
        "z=x.symmetric_difference_update(y)\n",
        "\n",
        "print(\"value of x\",x)\n",
        "print(\"value of y\",y)\n",
        "print(\"value of z\",z)"
      ],
      "metadata": {
        "colab": {
          "base_uri": "https://localhost:8080/"
        },
        "id": "i8DDGfcdsRCM",
        "outputId": "8de68014-5136-44b8-de39-3ff8a760a40e"
      },
      "execution_count": 19,
      "outputs": [
        {
          "output_type": "stream",
          "name": "stdout",
          "text": [
            "value of x {'cherry', 'google', 'banana', 'microsoft'}\n",
            "value of y {'microsoft', 'apple', 'google'}\n",
            "value of z None\n"
          ]
        }
      ]
    },
    {
      "cell_type": "code",
      "source": [
        "z=x.issubset(y)\n",
        "print(\"value of z\",z)"
      ],
      "metadata": {
        "colab": {
          "base_uri": "https://localhost:8080/"
        },
        "id": "V3K8v5xOsvfy",
        "outputId": "3d8e8fa7-9a70-4c1e-ffa9-dcd12ab63b23"
      },
      "execution_count": 21,
      "outputs": [
        {
          "output_type": "stream",
          "name": "stdout",
          "text": [
            "value of z False\n"
          ]
        }
      ]
    },
    {
      "cell_type": "code",
      "source": [
        "z=x.issuperset(y)\n",
        "print(\"value of z\",z)"
      ],
      "metadata": {
        "colab": {
          "base_uri": "https://localhost:8080/"
        },
        "id": "5neB1HDtsvdi",
        "outputId": "a357e6b4-35bc-47e6-fe03-91174019eb7a"
      },
      "execution_count": 22,
      "outputs": [
        {
          "output_type": "stream",
          "name": "stdout",
          "text": [
            "value of z False\n"
          ]
        }
      ]
    }
  ]
}