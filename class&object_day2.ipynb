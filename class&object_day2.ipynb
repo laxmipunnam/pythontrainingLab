{
  "nbformat": 4,
  "nbformat_minor": 0,
  "metadata": {
    "colab": {
      "name": "class&object_day2.ipynb",
      "provenance": [],
      "authorship_tag": "ABX9TyPFVGsKNk5zLg9EJtuoXMES",
      "include_colab_link": true
    },
    "kernelspec": {
      "name": "python3",
      "display_name": "Python 3"
    },
    "language_info": {
      "name": "python"
    }
  },
  "cells": [
    {
      "cell_type": "markdown",
      "metadata": {
        "id": "view-in-github",
        "colab_type": "text"
      },
      "source": [
        "<a href=\"https://colab.research.google.com/github/laxmipunnam/pythontrainingLab/blob/main/class%26object_day2.ipynb\" target=\"_parent\"><img src=\"https://colab.research.google.com/assets/colab-badge.svg\" alt=\"Open In Colab\"/></a>"
      ]
    },
    {
      "cell_type": "code",
      "execution_count": 33,
      "metadata": {
        "id": "Y1956uf8ENDV"
      },
      "outputs": [],
      "source": [
        "class employee:\n",
        "  'some docstring'\n",
        "  id=10\n",
        "  name='Laxmi'\n",
        "  def display(self):\n",
        "    print(self.id)\n",
        "    print(self.name)"
      ]
    },
    {
      "cell_type": "code",
      "source": [
        "#instantiation of class\n",
        "emp=employee()\n",
        "\n",
        "#accessing the attribute of class\n",
        "emp.display()"
      ],
      "metadata": {
        "colab": {
          "base_uri": "https://localhost:8080/"
        },
        "id": "Q6B5FLzoEkhj",
        "outputId": "156b4b7a-fca3-48d7-aad6-bee21a30f389"
      },
      "execution_count": 34,
      "outputs": [
        {
          "output_type": "stream",
          "name": "stdout",
          "text": [
            "10\n",
            "Laxmi\n"
          ]
        }
      ]
    },
    {
      "cell_type": "code",
      "source": [
        "#using the constructor\n",
        "\n",
        "class car:\n",
        "  def __init__(self,modelname,year):\n",
        "    self.modelname=modelname\n",
        "    self.year=year\n",
        "  def display(self):\n",
        "    print(\"the model name of car class is:\",self.modelname)\n",
        "    print(\"the year of car class is \",self.year )"
      ],
      "metadata": {
        "id": "nCcSHO-yE3EY"
      },
      "execution_count": 37,
      "outputs": []
    },
    {
      "cell_type": "code",
      "source": [
        "c1=car(\"toyota\",2018)\n",
        "c1.display()"
      ],
      "metadata": {
        "colab": {
          "base_uri": "https://localhost:8080/"
        },
        "id": "OExHbj9fMHvg",
        "outputId": "ff9906fa-48b1-4627-f482-57b2fd8e96fc"
      },
      "execution_count": 38,
      "outputs": [
        {
          "output_type": "stream",
          "name": "stdout",
          "text": [
            "the model name of car class is: toyota\n",
            "the year of car class is  2018\n"
          ]
        }
      ]
    },
    {
      "cell_type": "code",
      "source": [
        "#delete the attribute\n",
        "\n",
        "class employee:\n",
        "  'some docstring'\n",
        "  id=10\n",
        "  name='Laxmi'\n",
        "  def display(self):\n",
        "    print(self.id)\n",
        "    print(self.name)"
      ],
      "metadata": {
        "id": "kgtoLEWHHWXR"
      },
      "execution_count": 7,
      "outputs": []
    },
    {
      "cell_type": "code",
      "source": [
        "emp=employee()"
      ],
      "metadata": {
        "id": "M-g2d8YcHt8p"
      },
      "execution_count": 8,
      "outputs": []
    },
    {
      "cell_type": "code",
      "source": [
        "del emp.id"
      ],
      "metadata": {
        "colab": {
          "base_uri": "https://localhost:8080/",
          "height": 165
        },
        "id": "X0OdoKYAHxhB",
        "outputId": "b97c9160-7ea3-49ea-8183-2b4b6518c56a"
      },
      "execution_count": 9,
      "outputs": [
        {
          "output_type": "error",
          "ename": "AttributeError",
          "evalue": "ignored",
          "traceback": [
            "\u001b[0;31m---------------------------------------------------------------------------\u001b[0m",
            "\u001b[0;31mAttributeError\u001b[0m                            Traceback (most recent call last)",
            "\u001b[0;32m<ipython-input-9-6f66690d156b>\u001b[0m in \u001b[0;36m<module>\u001b[0;34m()\u001b[0m\n\u001b[0;32m----> 1\u001b[0;31m \u001b[0;32mdel\u001b[0m \u001b[0memp\u001b[0m\u001b[0;34m.\u001b[0m\u001b[0mid\u001b[0m\u001b[0;34m\u001b[0m\u001b[0;34m\u001b[0m\u001b[0m\n\u001b[0m",
            "\u001b[0;31mAttributeError\u001b[0m: id"
          ]
        }
      ]
    },
    {
      "cell_type": "code",
      "source": [
        "#non -parameterised constructor\n",
        "class student:\n",
        "  def __init__(self):\n",
        "    print(\"this is non paramaterised constructor\")\n",
        "  def showmethod(self,name):\n",
        "    self.name=name\n",
        "    print(\"print:\",self.name)\n",
        "\n",
        "st1=student()"
      ],
      "metadata": {
        "colab": {
          "base_uri": "https://localhost:8080/"
        },
        "id": "x7xB-Xu0H0tq",
        "outputId": "ecd34cbc-9259-4e76-9e3a-199dd1eb7834"
      },
      "execution_count": 39,
      "outputs": [
        {
          "output_type": "stream",
          "name": "stdout",
          "text": [
            "this is non paramaterised constructor\n"
          ]
        }
      ]
    },
    {
      "cell_type": "code",
      "source": [
        "st1.showmethod(\"Laxmi\")"
      ],
      "metadata": {
        "colab": {
          "base_uri": "https://localhost:8080/"
        },
        "id": "fCHXOMQ5Issa",
        "outputId": "47c27180-3704-4bab-acc7-f21820fa3230"
      },
      "execution_count": 40,
      "outputs": [
        {
          "output_type": "stream",
          "name": "stdout",
          "text": [
            "print: Laxmi\n"
          ]
        }
      ]
    },
    {
      "cell_type": "markdown",
      "source": [
        "built in function in oops"
      ],
      "metadata": {
        "id": "lWhjNWifJbmi"
      }
    },
    {
      "cell_type": "code",
      "source": [
        "class student:\n",
        "  \"this is doc string\"\n",
        "  def __init__(self,name,id,age):\n",
        "    self.name=name\n",
        "    self.age=age\n",
        "    self.id=id\n",
        "\n",
        "  "
      ],
      "metadata": {
        "id": "3wOQt8z1JbWA"
      },
      "execution_count": 43,
      "outputs": []
    },
    {
      "cell_type": "code",
      "source": [
        "s=student(\"Aj\",1001,23)\n",
        "#get attribute\n",
        "print(getattr(s,'age'))\n",
        "#has attribute\n",
        "print(hasattr(s,'age'))\n",
        "#delete attribute\n",
        "delattr(s,'age')\n",
        "\n",
        "print(hasattr(s,'age'))\n",
        "\n",
        "print(s.__doc__)\n",
        "print(s.__module__)\n",
        "print(s.__dict__)"
      ],
      "metadata": {
        "colab": {
          "base_uri": "https://localhost:8080/"
        },
        "id": "wz_2DkVTNTqR",
        "outputId": "1a978e36-82d1-49c6-e330-1fd021d4afc2"
      },
      "execution_count": 45,
      "outputs": [
        {
          "output_type": "stream",
          "name": "stdout",
          "text": [
            "23\n",
            "True\n",
            "False\n",
            "this is doc string\n",
            "__main__\n",
            "{'name': 'Aj', 'id': 1001}\n"
          ]
        }
      ]
    }
  ]
}