{
  "nbformat": 4,
  "nbformat_minor": 0,
  "metadata": {
    "colab": {
      "name": "day2_python_list.ipynb",
      "provenance": [],
      "authorship_tag": "ABX9TyM6qIa+/chWf04GA82eWA1x",
      "include_colab_link": true
    },
    "kernelspec": {
      "name": "python3",
      "display_name": "Python 3"
    },
    "language_info": {
      "name": "python"
    }
  },
  "cells": [
    {
      "cell_type": "markdown",
      "metadata": {
        "id": "view-in-github",
        "colab_type": "text"
      },
      "source": [
        "<a href=\"https://colab.research.google.com/github/laxmipunnam/pythontrainingLab/blob/main/day2_python_list.ipynb\" target=\"_parent\"><img src=\"https://colab.research.google.com/assets/colab-badge.svg\" alt=\"Open In Colab\"/></a>"
      ]
    },
    {
      "cell_type": "code",
      "execution_count": null,
      "metadata": {
        "colab": {
          "base_uri": "https://localhost:8080/"
        },
        "id": "znqfJTUc1Yzr",
        "outputId": "fda9802d-840a-4165-d4e3-276ec9f74b0d"
      },
      "outputs": [
        {
          "output_type": "stream",
          "name": "stdout",
          "text": [
            "<class 'list'>\n",
            "['apple', 'banana', 'cherry']\n"
          ]
        }
      ],
      "source": [
        "NewList=[\"apple\",\"banana\",\"cherry\"]\n",
        "\n",
        "print(type(NewList))\n",
        "print(NewList)"
      ]
    },
    {
      "cell_type": "code",
      "source": [
        "#access the element of list using index value\n",
        "NewList[2]"
      ],
      "metadata": {
        "colab": {
          "base_uri": "https://localhost:8080/",
          "height": 36
        },
        "id": "Oo4bep4k11sw",
        "outputId": "0379b8d3-e314-43c6-9a99-c42b473fb745"
      },
      "execution_count": null,
      "outputs": [
        {
          "output_type": "execute_result",
          "data": {
            "text/plain": [
              "'cherry'"
            ],
            "application/vnd.google.colaboratory.intrinsic+json": {
              "type": "string"
            }
          },
          "metadata": {},
          "execution_count": 2
        }
      ]
    },
    {
      "cell_type": "code",
      "source": [
        "#create list with multiple type\n",
        "List_with_different_type=[\"apple\",2,True,\"Tasty\"]\n",
        "List_with_different_type"
      ],
      "metadata": {
        "colab": {
          "base_uri": "https://localhost:8080/"
        },
        "id": "3JD5H5Ze11oY",
        "outputId": "2b2ac990-c1e9-4935-8209-383838053092"
      },
      "execution_count": null,
      "outputs": [
        {
          "output_type": "execute_result",
          "data": {
            "text/plain": [
              "['apple', 2, True, 'Tasty']"
            ]
          },
          "metadata": {},
          "execution_count": 4
        }
      ]
    },
    {
      "cell_type": "code",
      "source": [
        "#create list with multiple type\n",
        "List_with_different_type=[\"apple\",2,True,\"Tasty\",2.6]\n",
        "List_with_different_type\n",
        "print(type(List_with_different_type))"
      ],
      "metadata": {
        "colab": {
          "base_uri": "https://localhost:8080/"
        },
        "id": "_49i57f_6HdA",
        "outputId": "3a6b65e4-7b6d-4be7-f88a-c14d39f7fc4d"
      },
      "execution_count": null,
      "outputs": [
        {
          "output_type": "stream",
          "name": "stdout",
          "text": [
            "<class 'list'>\n"
          ]
        }
      ]
    },
    {
      "cell_type": "code",
      "source": [
        "#create using list constructor list()\n",
        "listConstruct=list((\"a\",\"b\",\"c\",))\n",
        "print(listConstruct)\n",
        "\n",
        "print(type(listConstruct))"
      ],
      "metadata": {
        "colab": {
          "base_uri": "https://localhost:8080/"
        },
        "id": "6w8Ls9nP11k4",
        "outputId": "bcb92e5e-7ccf-48b1-d934-332641fe2863"
      },
      "execution_count": null,
      "outputs": [
        {
          "output_type": "stream",
          "name": "stdout",
          "text": [
            "['a', 'b', 'c']\n",
            "<class 'list'>\n"
          ]
        }
      ]
    },
    {
      "cell_type": "code",
      "source": [
        "#i want to extract 2 ,true and tasty\n",
        "List_with_different_type[1:4]\n"
      ],
      "metadata": {
        "colab": {
          "base_uri": "https://localhost:8080/"
        },
        "id": "tylSRyN96gQ_",
        "outputId": "6ae3b1c1-f743-4fce-a90f-2594d12fa384"
      },
      "execution_count": null,
      "outputs": [
        {
          "output_type": "execute_result",
          "data": {
            "text/plain": [
              "[2, True, 'Tasty']"
            ]
          },
          "metadata": {},
          "execution_count": 21
        }
      ]
    },
    {
      "cell_type": "code",
      "source": [
        "#i want to extract 2,tasty\n",
        "List_with_different_type[1:4:2]"
      ],
      "metadata": {
        "colab": {
          "base_uri": "https://localhost:8080/"
        },
        "id": "TR8jdUzM11hE",
        "outputId": "8a7e1331-f69f-46f9-d740-d5599fb49000"
      },
      "execution_count": null,
      "outputs": [
        {
          "output_type": "execute_result",
          "data": {
            "text/plain": [
              "[2, 'Tasty']"
            ]
          },
          "metadata": {},
          "execution_count": 22
        }
      ]
    },
    {
      "cell_type": "code",
      "source": [
        "#negative indexing\n",
        "List_with_different_type[-4:-1]"
      ],
      "metadata": {
        "colab": {
          "base_uri": "https://localhost:8080/"
        },
        "id": "TYkQ96H83c_E",
        "outputId": "6ad17ecf-062b-498d-bd73-e5c5db49257b"
      },
      "execution_count": null,
      "outputs": [
        {
          "output_type": "execute_result",
          "data": {
            "text/plain": [
              "[2, True, 'Tasty']"
            ]
          },
          "metadata": {},
          "execution_count": 23
        }
      ]
    },
    {
      "cell_type": "code",
      "source": [
        "#some loop operation with list\n",
        "print(List_with_different_type)\n",
        "\n",
        "#1.for loop\n",
        "for i in List_with_different_type:\n",
        "  print(i)\n",
        "\n",
        "\n",
        "#2.range function\n",
        "for i in range(len(List_with_different_type)):\n",
        "  print(\"using range function:\",List_with_different_type[i])"
      ],
      "metadata": {
        "colab": {
          "base_uri": "https://localhost:8080/"
        },
        "id": "pgjPj4hj3lyo",
        "outputId": "f54b0509-4118-47f4-fcf8-586c3d1a7280"
      },
      "execution_count": null,
      "outputs": [
        {
          "output_type": "stream",
          "name": "stdout",
          "text": [
            "['apple', 2, True, 'Tasty', 2.6]\n",
            "apple\n",
            "2\n",
            "True\n",
            "Tasty\n",
            "2.6\n",
            "using range function: apple\n",
            "using range function: 2\n",
            "using range function: True\n",
            "using range function: Tasty\n",
            "using range function: 2.6\n"
          ]
        }
      ]
    },
    {
      "cell_type": "markdown",
      "source": [
        "Method in list"
      ],
      "metadata": {
        "id": "fYjeFFIG4NO4"
      }
    },
    {
      "cell_type": "code",
      "source": [
        "#1. insert method\n",
        "NewList=[\"apple\",\"banana\",\"cherry\"]\n",
        "NewList.insert(2,\"litchi\")\n",
        "print(NewList)"
      ],
      "metadata": {
        "colab": {
          "base_uri": "https://localhost:8080/"
        },
        "id": "s0cCkFkT4QEj",
        "outputId": "cb055fc1-3fb0-4c7a-e29e-0d2f1afe329e"
      },
      "execution_count": null,
      "outputs": [
        {
          "output_type": "stream",
          "name": "stdout",
          "text": [
            "['apple', 'banana', 'litchi', 'cherry']\n"
          ]
        }
      ]
    },
    {
      "cell_type": "code",
      "source": [
        "#2.append method\n",
        "NewList.append(\"Mango\")\n",
        "print(NewList)"
      ],
      "metadata": {
        "colab": {
          "base_uri": "https://localhost:8080/"
        },
        "id": "rZAdrt124QOn",
        "outputId": "c37562b5-3283-44f3-bdcd-5c00bda99de1"
      },
      "execution_count": null,
      "outputs": [
        {
          "output_type": "stream",
          "name": "stdout",
          "text": [
            "['apple', 'banana', 'litchi', 'cherry', 'Mango']\n"
          ]
        }
      ]
    },
    {
      "cell_type": "code",
      "source": [
        "#3.extend method\n",
        "#List1\n",
        "NewList=[\"apple\",\"banana\",\"cherry\"]\n",
        "print(NewList)\n",
        "#List2\n",
        "print(List_with_different_type)\n",
        "#use extend method\n",
        "NewList.extend(List_with_different_type)\n",
        "\n",
        "print(NewList)"
      ],
      "metadata": {
        "colab": {
          "base_uri": "https://localhost:8080/"
        },
        "id": "eiKcvpXx4QLQ",
        "outputId": "366600e2-a3c5-44ea-b9d5-c1d218680888"
      },
      "execution_count": null,
      "outputs": [
        {
          "output_type": "stream",
          "name": "stdout",
          "text": [
            "['apple', 'banana', 'cherry']\n",
            "['apple', 2, True, 'Tasty', 2.6]\n",
            "['apple', 'banana', 'cherry', 'apple', 2, True, 'Tasty', 2.6]\n"
          ]
        }
      ]
    },
    {
      "cell_type": "code",
      "source": [
        "#3.extend method\n",
        "#List1\n",
        "NewList=[\"apple\",\"banana\",\"cherry\"]\n",
        "print(NewList)\n",
        "#List2\n",
        "print(List_with_different_type)\n",
        "#use concatenation\n",
        "print(\"using concat :\",NewList+List_with_different_type)"
      ],
      "metadata": {
        "colab": {
          "base_uri": "https://localhost:8080/"
        },
        "id": "F8rX6vmB4QJg",
        "outputId": "c5a581c8-526a-4033-f790-99b913f1c525"
      },
      "execution_count": null,
      "outputs": [
        {
          "output_type": "stream",
          "name": "stdout",
          "text": [
            "['apple', 'banana', 'cherry']\n",
            "['apple', 2, True, 'Tasty', 2.6]\n",
            "using concat : ['apple', 'banana', 'cherry', 'apple', 2, True, 'Tasty', 2.6]\n"
          ]
        }
      ]
    },
    {
      "cell_type": "code",
      "source": [
        "#create a tuple of string type\n",
        "tuple_var=(\"car\",\"bike\")\n",
        "#list of int type\n",
        "list1=[\"1,2,3,4\"]\n",
        "#extend to add tuple into list\n",
        "list1.extend(tuple_var)\n",
        "print(list1)"
      ],
      "metadata": {
        "colab": {
          "base_uri": "https://localhost:8080/"
        },
        "id": "1da6n2MS9tqJ",
        "outputId": "c53d8b56-7630-4b67-f455-2175499926c5"
      },
      "execution_count": null,
      "outputs": [
        {
          "output_type": "stream",
          "name": "stdout",
          "text": [
            "['1,2,3,4', 'car', 'bike']\n"
          ]
        }
      ]
    },
    {
      "cell_type": "code",
      "source": [
        "#4. remove\n",
        "list1.remove('car')\n",
        "list1\n"
      ],
      "metadata": {
        "colab": {
          "base_uri": "https://localhost:8080/"
        },
        "id": "jr2IyVVq-TVx",
        "outputId": "236dbf43-dcf8-4fcf-e864-ec7fd6dd7bdf"
      },
      "execution_count": null,
      "outputs": [
        {
          "output_type": "execute_result",
          "data": {
            "text/plain": [
              "['1,2,3,4', 'bike']"
            ]
          },
          "metadata": {},
          "execution_count": 30
        }
      ]
    },
    {
      "cell_type": "code",
      "source": [
        "#5. pop\n",
        "list1.pop(1)\n",
        "list1"
      ],
      "metadata": {
        "colab": {
          "base_uri": "https://localhost:8080/"
        },
        "id": "TnA3il-t-bWL",
        "outputId": "7b81a6eb-6a7d-4137-8fe3-607b26f0d857"
      },
      "execution_count": null,
      "outputs": [
        {
          "output_type": "execute_result",
          "data": {
            "text/plain": [
              "['1,2,3,4']"
            ]
          },
          "metadata": {},
          "execution_count": 31
        }
      ]
    },
    {
      "cell_type": "code",
      "source": [
        "list1.pop()"
      ],
      "metadata": {
        "colab": {
          "base_uri": "https://localhost:8080/",
          "height": 36
        },
        "id": "LrNh1OwC-lnu",
        "outputId": "219e1206-0814-4b58-f13a-24e462e956ae"
      },
      "execution_count": null,
      "outputs": [
        {
          "output_type": "execute_result",
          "data": {
            "text/plain": [
              "'1,2,3,4'"
            ],
            "application/vnd.google.colaboratory.intrinsic+json": {
              "type": "string"
            }
          },
          "metadata": {},
          "execution_count": 32
        }
      ]
    },
    {
      "cell_type": "code",
      "source": [
        "list1=[1,2,3,4]\n",
        "list1.pop()"
      ],
      "metadata": {
        "colab": {
          "base_uri": "https://localhost:8080/"
        },
        "id": "FOSGVgrk-xyc",
        "outputId": "f9a194c5-1176-4081-c7c4-000b460fa1d1"
      },
      "execution_count": null,
      "outputs": [
        {
          "output_type": "execute_result",
          "data": {
            "text/plain": [
              "4"
            ]
          },
          "metadata": {},
          "execution_count": 33
        }
      ]
    },
    {
      "cell_type": "code",
      "source": [
        "#6. clear: it clear all the elements from the list\n",
        "list1.clear()\n",
        "list1"
      ],
      "metadata": {
        "colab": {
          "base_uri": "https://localhost:8080/"
        },
        "id": "q4Ii7Zsv-5LH",
        "outputId": "ea83606a-973f-40fe-ab25-8f01e42ad8e3"
      },
      "execution_count": null,
      "outputs": [
        {
          "output_type": "execute_result",
          "data": {
            "text/plain": [
              "[]"
            ]
          },
          "metadata": {},
          "execution_count": 34
        }
      ]
    },
    {
      "cell_type": "code",
      "source": [
        "#7. copy :it help in copying the list elements into specified list\n",
        "NewList=[\"apple\",\"banana\",\"cherry\"]\n",
        "list1=NewList.copy()\n",
        "list1\n"
      ],
      "metadata": {
        "colab": {
          "base_uri": "https://localhost:8080/"
        },
        "id": "ul5FxFiL_Gp5",
        "outputId": "3dd1201f-447e-4434-96c6-f79ef6bffa2f"
      },
      "execution_count": null,
      "outputs": [
        {
          "output_type": "execute_result",
          "data": {
            "text/plain": [
              "['apple', 'banana', 'cherry']"
            ]
          },
          "metadata": {},
          "execution_count": 36
        }
      ]
    },
    {
      "cell_type": "code",
      "source": [
        "#8. count of occurance of any element in list\n",
        "list1.count('mango')\n",
        "\n",
        "#9. index method\n",
        "list1.index('cherry')"
      ],
      "metadata": {
        "colab": {
          "base_uri": "https://localhost:8080/"
        },
        "id": "qH9ssqvN_fiC",
        "outputId": "75df11e9-19fb-4ab0-e598-23deb253f2c3"
      },
      "execution_count": null,
      "outputs": [
        {
          "output_type": "execute_result",
          "data": {
            "text/plain": [
              "2"
            ]
          },
          "metadata": {},
          "execution_count": 37
        }
      ]
    },
    {
      "cell_type": "code",
      "source": [
        "#10. start and remove\n",
        "list1.sort()\n",
        "list1"
      ],
      "metadata": {
        "colab": {
          "base_uri": "https://localhost:8080/"
        },
        "id": "5HCzPbax__po",
        "outputId": "902cc20e-60f8-4a36-9283-8833f3a090b6"
      },
      "execution_count": null,
      "outputs": [
        {
          "output_type": "execute_result",
          "data": {
            "text/plain": [
              "['apple', 'banana', 'cherry']"
            ]
          },
          "metadata": {},
          "execution_count": 38
        }
      ]
    },
    {
      "cell_type": "code",
      "source": [
        "#11.reverse\n",
        "list1.reverse()\n",
        "list1"
      ],
      "metadata": {
        "colab": {
          "base_uri": "https://localhost:8080/"
        },
        "id": "wd5NsvQZAN6L",
        "outputId": "4a7d7bdf-e870-40e9-9631-69294cb19669"
      },
      "execution_count": null,
      "outputs": [
        {
          "output_type": "execute_result",
          "data": {
            "text/plain": [
              "['cherry', 'banana', 'apple']"
            ]
          },
          "metadata": {},
          "execution_count": 39
        }
      ]
    }
  ]
}