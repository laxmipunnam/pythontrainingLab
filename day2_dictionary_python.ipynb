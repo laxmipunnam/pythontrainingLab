{
  "nbformat": 4,
  "nbformat_minor": 0,
  "metadata": {
    "colab": {
      "name": "day2_dictionary_python.ipynb",
      "provenance": [],
      "authorship_tag": "ABX9TyNifbhoiJz3S8uwnK6Vc6qq",
      "include_colab_link": true
    },
    "kernelspec": {
      "name": "python3",
      "display_name": "Python 3"
    },
    "language_info": {
      "name": "python"
    }
  },
  "cells": [
    {
      "cell_type": "markdown",
      "metadata": {
        "id": "view-in-github",
        "colab_type": "text"
      },
      "source": [
        "<a href=\"https://colab.research.google.com/github/laxmipunnam/pythontrainingLab/blob/main/day2_dictionary_python.ipynb\" target=\"_parent\"><img src=\"https://colab.research.google.com/assets/colab-badge.svg\" alt=\"Open In Colab\"/></a>"
      ]
    },
    {
      "cell_type": "code",
      "execution_count": null,
      "metadata": {
        "id": "F7rqeTiNJHrp"
      },
      "outputs": [],
      "source": [
        "#creation of dictionary\n",
        "dict={\n",
        "    \"brand\":\"ford\",\n",
        "    \"model\":\"mustag\",\n",
        "    \"year\":2009,\n",
        "    \"year\":2022\n",
        "}"
      ]
    },
    {
      "cell_type": "code",
      "source": [
        "print(dict)"
      ],
      "metadata": {
        "colab": {
          "base_uri": "https://localhost:8080/"
        },
        "id": "1OBnNlTBJheq",
        "outputId": "99b0e50f-26dd-46ea-8398-c3527cdaa49a"
      },
      "execution_count": null,
      "outputs": [
        {
          "output_type": "stream",
          "name": "stdout",
          "text": [
            "{'brand': 'ford', 'model': 'mustag', 'year': 2022}\n"
          ]
        }
      ]
    },
    {
      "cell_type": "code",
      "source": [
        "#find length of dictionary\n",
        "len(dict)"
      ],
      "metadata": {
        "colab": {
          "base_uri": "https://localhost:8080/"
        },
        "id": "qrIdNhSiJuFa",
        "outputId": "c12d4cca-bcb6-4b15-b6ff-e8faea272505"
      },
      "execution_count": null,
      "outputs": [
        {
          "output_type": "execute_result",
          "data": {
            "text/plain": [
              "3"
            ]
          },
          "metadata": {},
          "execution_count": 4
        }
      ]
    },
    {
      "cell_type": "code",
      "source": [
        "#create dictionary with different ds\n",
        "Dict={\n",
        "    \"brand\":\"ford\",\n",
        "    \"model\":\"mustag\",\n",
        "    \"electric\":False,\n",
        "    \"colour\":['red','blue','orange']\n",
        "}"
      ],
      "metadata": {
        "id": "bfPfe4xKJuCC"
      },
      "execution_count": null,
      "outputs": []
    },
    {
      "cell_type": "code",
      "source": [
        "print(Dict)\n",
        "print(type(Dict))"
      ],
      "metadata": {
        "colab": {
          "base_uri": "https://localhost:8080/"
        },
        "id": "CNJhQRGDKRFM",
        "outputId": "e90c0a8a-0e5c-4b08-fd88-7c92d3a31a5a"
      },
      "execution_count": null,
      "outputs": [
        {
          "output_type": "stream",
          "name": "stdout",
          "text": [
            "{'brand': 'ford', 'model': 'mustag', 'electric': False, 'colour': ['red', 'blue', 'orange']}\n",
            "<class 'dict'>\n"
          ]
        }
      ]
    },
    {
      "cell_type": "code",
      "source": [
        "#try  to acces the element of dictionary\n",
        "print(Dict[\"colour\"])\n",
        "\n",
        "#using get method\n",
        "print(\"get method:\",Dict.get(\"colour\"))"
      ],
      "metadata": {
        "colab": {
          "base_uri": "https://localhost:8080/"
        },
        "id": "GJJr_wquKX3I",
        "outputId": "d6beb696-8083-4e1b-d10a-795b3904d643"
      },
      "execution_count": null,
      "outputs": [
        {
          "output_type": "stream",
          "name": "stdout",
          "text": [
            "['red', 'blue', 'orange']\n",
            "get method: ['red', 'blue', 'orange']\n"
          ]
        }
      ]
    },
    {
      "cell_type": "code",
      "source": [
        "#key method,value method and item\n",
        "print(\"acces the value from dictionary:\",Dict.values())\n",
        "\n",
        "print(\"acces the value from dictionary:\",Dict.keys())\n",
        "\n",
        "print(\"acces the value from dictionary:\",Dict.items())"
      ],
      "metadata": {
        "colab": {
          "base_uri": "https://localhost:8080/"
        },
        "id": "YIWJjXa1KXzz",
        "outputId": "0fa34390-7f79-4850-f9be-51f39a6bc67e"
      },
      "execution_count": null,
      "outputs": [
        {
          "output_type": "stream",
          "name": "stdout",
          "text": [
            "acces the value from dictionary: dict_values(['ford', 'mustag', False, ['red', 'blue', 'orange']])\n",
            "acces the value from dictionary: dict_keys(['brand', 'model', 'electric', 'colour'])\n",
            "acces the value from dictionary: dict_items([('brand', 'ford'), ('model', 'mustag'), ('electric', False), ('colour', ['red', 'blue', 'orange'])])\n"
          ]
        }
      ]
    },
    {
      "cell_type": "code",
      "source": [
        "#add new key into existing dictionary\n",
        "dict[\"type\"]=\"non-electric\"\n",
        "\n",
        "dict"
      ],
      "metadata": {
        "colab": {
          "base_uri": "https://localhost:8080/"
        },
        "id": "gG3qvPVlKXxF",
        "outputId": "7dfb4cf8-89f7-4775-c266-6401ffda6665"
      },
      "execution_count": null,
      "outputs": [
        {
          "output_type": "execute_result",
          "data": {
            "text/plain": [
              "{'brand': 'ford', 'model': 'mustag', 'type': 'non-electric', 'year': 2022}"
            ]
          },
          "metadata": {},
          "execution_count": 13
        }
      ]
    },
    {
      "cell_type": "code",
      "source": [
        "#remove the key from dictionary\n",
        "dict.pop(\"year\")\n",
        "print(\"using pop method:\",dict.items())"
      ],
      "metadata": {
        "colab": {
          "base_uri": "https://localhost:8080/"
        },
        "id": "9sqdG4j2KXth",
        "outputId": "722f5075-beeb-4725-a33e-f21e794196b2"
      },
      "execution_count": null,
      "outputs": [
        {
          "output_type": "stream",
          "name": "stdout",
          "text": [
            "using pop method: dict_items([('brand', 'ford'), ('model', 'mustag'), ('type', 'non-electric')])\n"
          ]
        }
      ]
    },
    {
      "cell_type": "code",
      "source": [
        "#nested dictionary\n",
        "child1={\n",
        "    \"name\":\"ram\",\n",
        "    \"age\":25\n",
        "}\n",
        "child2={\n",
        "    \"name\":\"ramu\",\n",
        "    \"age\":28\n",
        "}\n",
        "child3={\n",
        "    \"name\":\"laxmi\",\n",
        "    \"age\":19\n",
        "}\n",
        "child4={\n",
        "    \"name\":\"sragvi\",\n",
        "    \"age\":20\n",
        "}\n",
        "myfamily={\n",
        "    \"key1\":child1,\n",
        "    \"key2\":child2 ,\n",
        "    \"key3\":child3,\n",
        "    \"key4\":child4,\n",
        "}"
      ],
      "metadata": {
        "id": "N23PZHdcMAlu"
      },
      "execution_count": null,
      "outputs": []
    },
    {
      "cell_type": "code",
      "source": [
        "print(\"nested dictionary:\",myfamily)"
      ],
      "metadata": {
        "colab": {
          "base_uri": "https://localhost:8080/"
        },
        "id": "okIN6lZwMAia",
        "outputId": "ad22b837-75e2-455e-cae6-ab30c1523d19"
      },
      "execution_count": null,
      "outputs": [
        {
          "output_type": "stream",
          "name": "stdout",
          "text": [
            "nested dictionary: {'key1': {'name': 'ram', 'age': 25}, 'key2': {'name': 'ramu', 'age': 28}, 'key3': {'name': 'laxmi', 'age': 19}, 'key4': {'name': 'sragvi', 'age': 20}}\n"
          ]
        }
      ]
    },
    {
      "cell_type": "code",
      "source": [
        "#copy method\n",
        "x=myfamily.copy()\n",
        "x"
      ],
      "metadata": {
        "colab": {
          "base_uri": "https://localhost:8080/"
        },
        "id": "15x6-PfhMAfr",
        "outputId": "c881af07-2aae-4103-cc2c-753d9a2976bd"
      },
      "execution_count": null,
      "outputs": [
        {
          "output_type": "execute_result",
          "data": {
            "text/plain": [
              "{'key1': {'age': 25, 'name': 'ram'},\n",
              " 'key2': {'age': 28, 'name': 'ramu'},\n",
              " 'key3': {'age': 19, 'name': 'laxmi'},\n",
              " 'key4': {'age': 20, 'name': 'sragvi'}}"
            ]
          },
          "metadata": {},
          "execution_count": 19
        }
      ]
    },
    {
      "cell_type": "code",
      "source": [
        "#from keys method\n",
        "\n",
        "#create a set\n",
        "set1={'suresh','mahesh','rayma'}\n",
        "print(set1)\n",
        "\n",
        "keys='sales'\n",
        "\n",
        "#create a dictionary using the from  key method\n",
        "\n",
        "Dict1=dict.fromkeys(set1,keys)\n",
        "\n",
        "Dict1\n"
      ],
      "metadata": {
        "colab": {
          "base_uri": "https://localhost:8080/"
        },
        "id": "TMRyKH7XMAcw",
        "outputId": "fbe51b08-74c3-4db0-b829-ad140671ddd1"
      },
      "execution_count": null,
      "outputs": [
        {
          "output_type": "stream",
          "name": "stdout",
          "text": [
            "{'mahesh', 'suresh', 'rayma'}\n"
          ]
        },
        {
          "output_type": "execute_result",
          "data": {
            "text/plain": [
              "{'mahesh': 'sales', 'rayma': 'sales', 'suresh': 'sales'}"
            ]
          },
          "metadata": {},
          "execution_count": 20
        }
      ]
    },
    {
      "cell_type": "code",
      "source": [
        "#pop item method\n",
        "\n",
        "dict.popitem()\n",
        "print(dict)"
      ],
      "metadata": {
        "colab": {
          "base_uri": "https://localhost:8080/"
        },
        "id": "z0Z2sjYKOqCE",
        "outputId": "b8ae4e14-8010-4cf2-e154-5ea837e496db"
      },
      "execution_count": null,
      "outputs": [
        {
          "output_type": "stream",
          "name": "stdout",
          "text": [
            "{'brand': 'ford', 'model': 'mustag'}\n"
          ]
        }
      ]
    }
  ]
}