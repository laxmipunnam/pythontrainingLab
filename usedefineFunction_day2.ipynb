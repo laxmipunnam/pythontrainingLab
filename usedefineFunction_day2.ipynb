{
  "nbformat": 4,
  "nbformat_minor": 0,
  "metadata": {
    "colab": {
      "name": "usedefineFunction_day2.ipynb",
      "provenance": [],
      "authorship_tag": "ABX9TyMQ7WpzTF11SGxKzCjq/clD",
      "include_colab_link": true
    },
    "kernelspec": {
      "name": "python3",
      "display_name": "Python 3"
    },
    "language_info": {
      "name": "python"
    }
  },
  "cells": [
    {
      "cell_type": "markdown",
      "metadata": {
        "id": "view-in-github",
        "colab_type": "text"
      },
      "source": [
        "<a href=\"https://colab.research.google.com/github/laxmipunnam/pythontrainingLab/blob/main/usedefineFunction_day2.ipynb\" target=\"_parent\"><img src=\"https://colab.research.google.com/assets/colab-badge.svg\" alt=\"Open In Colab\"/></a>"
      ]
    },
    {
      "cell_type": "code",
      "execution_count": null,
      "metadata": {
        "id": "USEm-MwSwiMU"
      },
      "outputs": [],
      "source": [
        "def printme(str):\n",
        "  \"this is a doc string which is optional and won't get printed with output\"\n",
        "  print(str)\n",
        "  return\n",
        "  "
      ]
    },
    {
      "cell_type": "code",
      "source": [
        "printme(\"hello,python\")"
      ],
      "metadata": {
        "colab": {
          "base_uri": "https://localhost:8080/"
        },
        "id": "_ltL7ejQw54X",
        "outputId": "7fdec867-b7ee-4da3-94f2-8e03ad7788a7"
      },
      "execution_count": null,
      "outputs": [
        {
          "output_type": "stream",
          "name": "stdout",
          "text": [
            "hello,python\n"
          ]
        }
      ]
    },
    {
      "cell_type": "code",
      "source": [
        "def changeme(mylist):\n",
        "  mylist.append([1,2,3])\n",
        "  print(\"inside function definition\",mylist)\n",
        "  return"
      ],
      "metadata": {
        "id": "UyMFt67txFat"
      },
      "execution_count": null,
      "outputs": []
    },
    {
      "cell_type": "code",
      "source": [
        "mylist=[10,20,30]\n",
        "changeme(mylist)\n",
        "print(\"outside the function:\",mylist)"
      ],
      "metadata": {
        "colab": {
          "base_uri": "https://localhost:8080/"
        },
        "id": "G3_d4PjCxbOA",
        "outputId": "e9d49d46-8e7d-4273-dd5a-20f7a3f8e418"
      },
      "execution_count": null,
      "outputs": [
        {
          "output_type": "stream",
          "name": "stdout",
          "text": [
            "inside function definition [10, 20, 30, [1, 2, 3]]\n",
            "outside the function: [10, 20, 30, [1, 2, 3]]\n"
          ]
        }
      ]
    },
    {
      "cell_type": "code",
      "source": [
        "def changeme(mylist):\n",
        "  mylist=([1,2,3])\n",
        "  print(\"inside function definition\",mylist)\n",
        "  return"
      ],
      "metadata": {
        "id": "hSDt0hTqxonE"
      },
      "execution_count": null,
      "outputs": []
    },
    {
      "cell_type": "code",
      "source": [
        "mylist=[10,20,30]\n",
        "changeme(mylist)\n",
        "print(\"outside the function:\",mylist)"
      ],
      "metadata": {
        "colab": {
          "base_uri": "https://localhost:8080/"
        },
        "id": "iCDWKsuCxoNx",
        "outputId": "48e7a9ec-886a-4c05-fa96-32f56d29bada"
      },
      "execution_count": null,
      "outputs": [
        {
          "output_type": "stream",
          "name": "stdout",
          "text": [
            "inside function definition [1, 2, 3]\n",
            "outside the function: [10, 20, 30]\n"
          ]
        }
      ]
    },
    {
      "cell_type": "markdown",
      "source": [
        "type of argument in function"
      ],
      "metadata": {
        "id": "f3_pBV1Fx21r"
      }
    },
    {
      "cell_type": "code",
      "source": [
        "#1.required argument\n",
        "def printme(str):\n",
        "  \"this is a doc string which is optional and won't get printed with output\"\n",
        "  print(str)\n",
        "  return\n",
        "printme()"
      ],
      "metadata": {
        "colab": {
          "base_uri": "https://localhost:8080/",
          "height": 200
        },
        "id": "SKeoM5JOx1Ji",
        "outputId": "d7998f81-b927-4aca-e1a9-154f093c52cd"
      },
      "execution_count": null,
      "outputs": [
        {
          "output_type": "error",
          "ename": "TypeError",
          "evalue": "ignored",
          "traceback": [
            "\u001b[0;31m---------------------------------------------------------------------------\u001b[0m",
            "\u001b[0;31mTypeError\u001b[0m                                 Traceback (most recent call last)",
            "\u001b[0;32m<ipython-input-7-fa1bf0855df2>\u001b[0m in \u001b[0;36m<module>\u001b[0;34m()\u001b[0m\n\u001b[1;32m      4\u001b[0m   \u001b[0mprint\u001b[0m\u001b[0;34m(\u001b[0m\u001b[0mstr\u001b[0m\u001b[0;34m)\u001b[0m\u001b[0;34m\u001b[0m\u001b[0;34m\u001b[0m\u001b[0m\n\u001b[1;32m      5\u001b[0m   \u001b[0;32mreturn\u001b[0m\u001b[0;34m\u001b[0m\u001b[0;34m\u001b[0m\u001b[0m\n\u001b[0;32m----> 6\u001b[0;31m \u001b[0mprintme\u001b[0m\u001b[0;34m(\u001b[0m\u001b[0;34m)\u001b[0m\u001b[0;34m\u001b[0m\u001b[0;34m\u001b[0m\u001b[0m\n\u001b[0m",
            "\u001b[0;31mTypeError\u001b[0m: printme() missing 1 required positional argument: 'str'"
          ]
        }
      ]
    },
    {
      "cell_type": "code",
      "source": [
        "#2.keyword argument\n",
        "def printme(str):\n",
        "  \"this is a doc string which is optional and won't get printed with output\"\n",
        "  print(str)\n",
        "  return\n",
        "printme(str='hello')"
      ],
      "metadata": {
        "colab": {
          "base_uri": "https://localhost:8080/"
        },
        "id": "RLshVbzDyJmS",
        "outputId": "6abcfa77-82c4-426a-faa6-d90a2e67f8b5"
      },
      "execution_count": null,
      "outputs": [
        {
          "output_type": "stream",
          "name": "stdout",
          "text": [
            "hello\n"
          ]
        }
      ]
    },
    {
      "cell_type": "code",
      "source": [
        "#3.default argument\n",
        "def info(name,age=20):\n",
        "  print(\"name:\",name)\n",
        "  print(\"age:\",age)\n",
        "  return\n",
        "\n",
        "info('sai')\n",
        "info('laxmi',19)"
      ],
      "metadata": {
        "colab": {
          "base_uri": "https://localhost:8080/"
        },
        "id": "tTGfbuLLyTf0",
        "outputId": "f1beede0-43c6-43ef-e84d-c482df738020"
      },
      "execution_count": null,
      "outputs": [
        {
          "output_type": "stream",
          "name": "stdout",
          "text": [
            "name: sai\n",
            "age: 20\n",
            "name: laxmi\n",
            "age: 19\n"
          ]
        }
      ]
    },
    {
      "cell_type": "code",
      "source": [
        "#4.variable length argument\n",
        "def printinfo(arg1, *tuple1):\n",
        "  print(arg1)\n",
        "  for x in tuple1:\n",
        "    print(x)\n",
        "  return\n",
        "\n",
        "printinfo(10,20,30,40,50)"
      ],
      "metadata": {
        "colab": {
          "base_uri": "https://localhost:8080/"
        },
        "id": "DVAo8P30yTci",
        "outputId": "b03ccd35-f3f7-457a-8b52-a9e6914ef108"
      },
      "execution_count": null,
      "outputs": [
        {
          "output_type": "stream",
          "name": "stdout",
          "text": [
            "10\n",
            "20\n",
            "30\n",
            "40\n",
            "50\n"
          ]
        }
      ]
    },
    {
      "cell_type": "code",
      "source": [
        "#defining anonymous function\n",
        "x=lambda a,b: a*b\n",
        "\n",
        "#call and print anonymous function\n",
        "print(x(5,6))"
      ],
      "metadata": {
        "colab": {
          "base_uri": "https://localhost:8080/"
        },
        "id": "wiRGvWo_1SbA",
        "outputId": "166e7af2-35fa-4e61-8662-36b87a2e8a37"
      },
      "execution_count": null,
      "outputs": [
        {
          "output_type": "stream",
          "name": "stdout",
          "text": [
            "30\n"
          ]
        }
      ]
    },
    {
      "cell_type": "code",
      "source": [
        "#return statement\n",
        "def sum(arg1,arg2):\n",
        "  total=arg1+arg2\n",
        "  print(\"inside function:\",total)\n",
        "  return total\n",
        "\n",
        "\n",
        "#sum(10,20)\n",
        "total=sum(10,20)\n",
        "print(\"outside function:\",total)"
      ],
      "metadata": {
        "colab": {
          "base_uri": "https://localhost:8080/"
        },
        "id": "lY5Q_HQX1SYp",
        "outputId": "749b89d4-1e4e-48cf-e854-bd132a431a0a"
      },
      "execution_count": null,
      "outputs": [
        {
          "output_type": "stream",
          "name": "stdout",
          "text": [
            "inside function: 30\n",
            "outside function: 30\n"
          ]
        }
      ]
    },
    {
      "cell_type": "code",
      "source": [
        "#scope oof the gobal\n",
        "total=0\n",
        "def sum(arg1,arg2):\n",
        "  total=arg1+arg2\n",
        "  print(\"inside function:\",total)\n",
        "  return total\n",
        "\n",
        "\n",
        "#sum(10,20)\n",
        "sum(10,20)\n",
        "print(\"outside function:\",total)"
      ],
      "metadata": {
        "colab": {
          "base_uri": "https://localhost:8080/"
        },
        "id": "uGpef1NL1SV0",
        "outputId": "a0f78647-35e9-47e3-ea08-678b12d3a152"
      },
      "execution_count": null,
      "outputs": [
        {
          "output_type": "stream",
          "name": "stdout",
          "text": [
            "inside function: 30\n",
            "outside function: 0\n"
          ]
        }
      ]
    },
    {
      "cell_type": "code",
      "source": [
        "#doc string\n",
        "def square(a):\n",
        "  \"this is a doc string of square function\"\n",
        "  return a*age\n",
        "\n",
        "#print(square.__doc__)\n",
        "help(square)\n"
      ],
      "metadata": {
        "colab": {
          "base_uri": "https://localhost:8080/"
        },
        "id": "4b-WQG9V2c1j",
        "outputId": "08e42eb6-a802-49c6-c903-d5481b2f755d"
      },
      "execution_count": null,
      "outputs": [
        {
          "output_type": "stream",
          "name": "stdout",
          "text": [
            "Help on function square in module __main__:\n",
            "\n",
            "square(a)\n",
            "    this is a doc string of square function\n",
            "\n"
          ]
        }
      ]
    }
  ]
}